{
 "cells": [
  {
   "cell_type": "markdown",
   "id": "deluxe-cruise",
   "metadata": {},
   "source": [
    "# Access Control in Ruby\n",
    "\n",
    "_The only easy way to change an object's state in Ruby is by calling one of its methods. Control access to the methods, and you have controlled access to the object_. A good rule of the thumb is never to expose methods that could leave an object in an invalid state.\n",
    "\n",
    "Ruby gives you three levels of protection:\n",
    "\n",
    "1. **Public** methods can be called by everyone - no access control is enforced. _A class's instance methods (these do not belong only to one object; instead, every instance of the class can call them)_\n",
    "2. **Protected** methods can be invoked only by objects of the defining class and its subclasses. Access is kept within the family. However, usage of **protected** is limited.\n",
    "3. **Private** methods cannot be called with an explicit receiver - the receiver is always `self`. This means that private methods can be called only in the context of the current object; you cannot invoke another object's private methods.\n",
    "\n",
    "Access control is determined dynamically, as the program runs, not statically. You will get an access violation only when the code attempts to execute the restricted method."
   ]
  },
  {
   "cell_type": "code",
   "execution_count": 1,
   "id": "bright-transportation",
   "metadata": {},
   "outputs": [
    {
     "name": "stdout",
     "output_type": "stream",
     "text": [
      "This is a public method\n"
     ]
    }
   ],
   "source": [
    "class ClassAccess\n",
    "  def m1\n",
    "    puts 'This is a public method'\n",
    "  end\n",
    "  \n",
    "  protected\n",
    "    def m2\n",
    "      puts 'This is a protected method'\n",
    "    end\n",
    "  \n",
    "  private\n",
    "    def m3\n",
    "      puts 'This is a private method'\n",
    "    end\n",
    "end\n",
    "\n",
    "ca = ClassAccess.new\n",
    "ca.m1"
   ]
  },
  {
   "cell_type": "code",
   "execution_count": null,
   "id": "southeast-layout",
   "metadata": {},
   "outputs": [
    {
     "ename": "NoMethodError",
     "evalue": "protected method `m2' called for #<ClassAccess:0x00007f9212980340>",
     "output_type": "error",
     "traceback": [
      "\u001b[31mNoMethodError\u001b[0m: protected method `m2' called for #<ClassAccess:0x00007f9212980340>",
      "(eval):1:in `<main>'",
      "/usr/local/lib/ruby/gems/3.0.0/gems/iruby-0.4.0/lib/iruby/backend.rb:44:in `eval'",
      "/usr/local/lib/ruby/gems/3.0.0/gems/iruby-0.4.0/lib/iruby/backend.rb:44:in `eval'",
      "/usr/local/lib/ruby/gems/3.0.0/gems/iruby-0.4.0/lib/iruby/backend.rb:12:in `eval'",
      "/usr/local/lib/ruby/gems/3.0.0/gems/iruby-0.4.0/lib/iruby/kernel.rb:90:in `execute_request'",
      "/usr/local/lib/ruby/gems/3.0.0/gems/iruby-0.4.0/lib/iruby/kernel.rb:49:in `dispatch'",
      "/usr/local/lib/ruby/gems/3.0.0/gems/iruby-0.4.0/lib/iruby/kernel.rb:38:in `run'",
      "/usr/local/lib/ruby/gems/3.0.0/gems/iruby-0.4.0/lib/iruby/command.rb:110:in `run_kernel'",
      "/usr/local/lib/ruby/gems/3.0.0/gems/iruby-0.4.0/lib/iruby/command.rb:40:in `run'",
      "/usr/local/lib/ruby/gems/3.0.0/gems/iruby-0.4.0/bin/iruby:5:in `<top (required)>'",
      "/usr/local/lib/ruby/gems/3.0.0/bin/iruby:23:in `load'",
      "/usr/local/lib/ruby/gems/3.0.0/bin/iruby:23:in `<main>'"
     ]
    }
   ],
   "source": [
    "ca.m2"
   ]
  },
  {
   "cell_type": "code",
   "execution_count": null,
   "id": "hydraulic-framing",
   "metadata": {},
   "outputs": [
    {
     "ename": "NoMethodError",
     "evalue": "private method `m3' called for #<ClassAccess:0x00007f9212980340>",
     "output_type": "error",
     "traceback": [
      "\u001b[31mNoMethodError\u001b[0m: private method `m3' called for #<ClassAccess:0x00007f9212980340>",
      "(eval):1:in `<main>'",
      "/usr/local/lib/ruby/gems/3.0.0/gems/iruby-0.4.0/lib/iruby/backend.rb:44:in `eval'",
      "/usr/local/lib/ruby/gems/3.0.0/gems/iruby-0.4.0/lib/iruby/backend.rb:44:in `eval'",
      "/usr/local/lib/ruby/gems/3.0.0/gems/iruby-0.4.0/lib/iruby/backend.rb:12:in `eval'",
      "/usr/local/lib/ruby/gems/3.0.0/gems/iruby-0.4.0/lib/iruby/kernel.rb:90:in `execute_request'",
      "/usr/local/lib/ruby/gems/3.0.0/gems/iruby-0.4.0/lib/iruby/kernel.rb:49:in `dispatch'",
      "/usr/local/lib/ruby/gems/3.0.0/gems/iruby-0.4.0/lib/iruby/kernel.rb:38:in `run'",
      "/usr/local/lib/ruby/gems/3.0.0/gems/iruby-0.4.0/lib/iruby/command.rb:110:in `run_kernel'",
      "/usr/local/lib/ruby/gems/3.0.0/gems/iruby-0.4.0/lib/iruby/command.rb:40:in `run'",
      "/usr/local/lib/ruby/gems/3.0.0/gems/iruby-0.4.0/bin/iruby:5:in `<top (required)>'",
      "/usr/local/lib/ruby/gems/3.0.0/bin/iruby:23:in `load'",
      "/usr/local/lib/ruby/gems/3.0.0/bin/iruby:23:in `<main>'"
     ]
    }
   ],
   "source": [
    "ca.m3"
   ]
  },
  {
   "cell_type": "markdown",
   "id": "accepted-swaziland",
   "metadata": {},
   "source": [
    "Alternatively, you can set access levels of named methods by listing them as arguments to the access control functions:"
   ]
  },
  {
   "cell_type": "code",
   "execution_count": 4,
   "id": "hundred-heavy",
   "metadata": {},
   "outputs": [
    {
     "data": {
      "text/plain": [
       "ClassAccess"
      ]
     },
     "execution_count": 4,
     "metadata": {},
     "output_type": "execute_result"
    }
   ],
   "source": [
    "class ClassAccess\n",
    "  def m1\n",
    "  end\n",
    "  public :m1\n",
    "  protected :m2, :m3\n",
    "end"
   ]
  },
  {
   "cell_type": "markdown",
   "id": "controversial-carpet",
   "metadata": {},
   "source": [
    "Here is an example for `protected` access control."
   ]
  },
  {
   "cell_type": "code",
   "execution_count": 5,
   "id": "variable-security",
   "metadata": {},
   "outputs": [
    {
     "name": "stdout",
     "output_type": "stream",
     "text": [
      "The other object's age is bigger.\n"
     ]
    }
   ],
   "source": [
    "class Person\n",
    "  def initialize(age)\n",
    "    @age = age\n",
    "  end\n",
    "  \n",
    "  def age\n",
    "    @age\n",
    "  end\n",
    "  \n",
    "  def compare_age(c)\n",
    "    if c.age > age\n",
    "      \"The other object's age is bigger.\"\n",
    "    else\n",
    "      \"The other object's age is the same or smaller.\"\n",
    "    end\n",
    "  end\n",
    "  \n",
    "  protected :age\n",
    "end\n",
    "\n",
    "chris = Person.new(25)\n",
    "marcos = Person.new(34)\n",
    "puts chris.compare_age(marcos)"
   ]
  },
  {
   "cell_type": "markdown",
   "id": "essential-contributor",
   "metadata": {},
   "source": [
    "We compare one `Person` instance with another `Person` instance. The comparison, however, depends on the result of a call to the method age. The object doing the comparing (`chris`, in the example) has to ask the other object (`marcos`) to execute its `age` method. So, `age` can't be private.\n",
    "\n",
    "Thats's where the protected level comes in. With `age` protected rather than private, `chris` can ask `marcos` to execute `age`, because `chris` and `marcos` are both instances of the same class. But if you try to call the `age` method of a `Person` object when `self` is anything other than a `Person` object, the method will fail.\n",
    "\n",
    "A protected method is thus like a private method, but with an exemption for cases where the class of `self` (`chris`) and the class of the object having the method called on it (`marcos`) are the same.\n",
    "\n",
    "> In Ruby, `public`, `private` and `protected` apply only to methods. Instance and class variables are encapsulated and effectively private, and constants are effectively public. There is no way to make an instance variable accessible from outside a class (except by defining an accessor method). And there is no way to define a constant that is inaccessible to outside use."
   ]
  },
  {
   "cell_type": "markdown",
   "id": "acceptable-ceiling",
   "metadata": {},
   "source": [
    "## Overriding private methods\n",
    "\n",
    "Private methods cannot normally be invoked from outside the class that defines them. But they are inherited by subclasses. This means that subclasses can invoke them and can override them.\n",
    "\n",
    "> Classes often use private methods as internal helper methods. They are not part of the public API of the class and are not intended to be visible. If you happen to define a method in your subclass that has the same name as a private method in the super-class, you will have inadvertently overriden the super-class's internal utility method, and this will almost certainly cause unintended behavior."
   ]
  },
  {
   "cell_type": "markdown",
   "id": "electronic-banner",
   "metadata": {},
   "source": [
    "## Accessor methods\n",
    "\n",
    "_Encapsulation_ is achieved when the instance variables are private to an object and you have public getters and setters (in Ruby, we call them attribute readers and attribute writers). To make instance variables available, Ruby provides _accessor methods_ that return their values."
   ]
  },
  {
   "cell_type": "code",
   "execution_count": 6,
   "id": "determined-yahoo",
   "metadata": {},
   "outputs": [
    {
     "name": "stdout",
     "output_type": "stream",
     "text": [
      "Wonderwall\n",
      "Oasis\n"
     ]
    }
   ],
   "source": [
    "class Song\n",
    "  def initialize(name, artist)\n",
    "    @name   = name\n",
    "    @artist = artist\n",
    "  end\n",
    "  def name\n",
    "    @name\n",
    "  end\n",
    "  def artist\n",
    "    @artist\n",
    "  end\n",
    "end\n",
    "\n",
    "song = Song.new('Wonderwall', 'Oasis')\n",
    "puts song.name\n",
    "puts song.artist"
   ]
  },
  {
   "cell_type": "markdown",
   "id": "convertible-punishment",
   "metadata": {},
   "source": [
    "Let's try now with accessor methods"
   ]
  },
  {
   "cell_type": "code",
   "execution_count": 7,
   "id": "usual-dinner",
   "metadata": {},
   "outputs": [
    {
     "name": "stdout",
     "output_type": "stream",
     "text": [
      "Viva la Vida\n",
      "Coldplay\n"
     ]
    }
   ],
   "source": [
    "class Song\n",
    "  def initialize(name, artist)\n",
    "    @name   = name\n",
    "    @artist = artist\n",
    "  end\n",
    "  attr_reader :name, :artist\n",
    "end\n",
    "\n",
    "song = Song.new('Viva la Vida', 'Coldplay')\n",
    "puts song.name\n",
    "puts song.artist"
   ]
  },
  {
   "cell_type": "markdown",
   "id": "aerial-training",
   "metadata": {},
   "source": [
    "- For creating reader only methods use: `attr_reader :name`.\n",
    "- For creating reader and writer methods: `attr_accessor :name`.\n",
    "- For creating writer methods: `attr_writer :name`."
   ]
  },
  {
   "cell_type": "markdown",
   "id": "parental-public",
   "metadata": {},
   "source": [
    "### Are instance variables inherited by a sub-class?\n",
    "\n",
    "David Black, the author of `Ruby for Rails`, has this to say:\n",
    "\n",
    "> Instance variables are per-object, not per-class, and _they're not inherited_. But if a method uses one, and that method is available to subclasses, then it will still use the variable -- but \"the variable\" in the sense of one per object."
   ]
  },
  {
   "cell_type": "code",
   "execution_count": 8,
   "id": "humanitarian-jones",
   "metadata": {},
   "outputs": [
    {
     "name": "stdout",
     "output_type": "stream",
     "text": [
      "n is 2000\n"
     ]
    }
   ],
   "source": [
    "class C\n",
    "  def initialize\n",
    "    @n = 100\n",
    "  end\n",
    "  \n",
    "  def increase_n\n",
    "    @n *= 20\n",
    "  end\n",
    "end\n",
    "\n",
    "class D < C\n",
    "  def show_n\n",
    "    puts \"n is #{@n}\"\n",
    "  end\n",
    "end\n",
    "\n",
    "d = D.new\n",
    "d.increase_n\n",
    "d.show_n"
   ]
  },
  {
   "cell_type": "markdown",
   "id": "single-effort",
   "metadata": {},
   "source": [
    "_The `@n` in `D`'s methods is the same name (for each instance) as the one in `C`_.\n",
    "\n",
    "> All Ruby objects have a set of instance variables. These are not defined by the object's class - they are simply created when a value is assigned to them. Because instance variables are note defined by a class, they are unrelated to subclassing and the inheritance mechanism."
   ]
  },
  {
   "cell_type": "markdown",
   "id": "generic-retailer",
   "metadata": {},
   "source": [
    "## Top-level methods\n",
    "\n",
    "When you write code at the top level, Ruby provides you atomatically with a default `self`. This object is a direct instance of `Object`. When you ask it to describe itself:"
   ]
  },
  {
   "cell_type": "code",
   "execution_count": 9,
   "id": "occasional-sleep",
   "metadata": {},
   "outputs": [
    {
     "name": "stdout",
     "output_type": "stream",
     "text": [
      "main\n"
     ]
    }
   ],
   "source": [
    "puts self"
   ]
  },
  {
   "cell_type": "markdown",
   "id": "adjustable-nightmare",
   "metadata": {},
   "source": [
    "The object `main` is the current object as soon as your program starts up.\n",
    "\n",
    "Suppose you define a method at the top level:"
   ]
  },
  {
   "cell_type": "code",
   "execution_count": 10,
   "id": "compound-birth",
   "metadata": {},
   "outputs": [
    {
     "data": {
      "text/plain": [
       ":talk"
      ]
     },
     "execution_count": 10,
     "metadata": {},
     "output_type": "execute_result"
    }
   ],
   "source": [
    "def talk\n",
    "  puts 'Hello'\n",
    "end"
   ]
  },
  {
   "cell_type": "markdown",
   "id": "behavioral-flooring",
   "metadata": {},
   "source": [
    "Who, or what, does the method belong to? It's not inside a class or module definitioon block, so it doesn't appear to be an instance method of a class or module. It's not attached to any particular object (as in `def obj.talk`). What is it? When we define top-level methods, we're actually creating (private) instance methods for class `Object`.\n",
    "\n",
    "Because top-level methods are private, you can't call them with an explicit receiver; you can only call them by using the implied receiver, `self`. That means `self` must be an object on whose method search path the given top-level method lies. But every object's search path includes the `Kernel` module, because the class `Object` mixes in `Kernel`, and every object's class has `Object` as an ancestor. That means you can _always_ call any top-level method, wherever you are in your program. It also means you can _never_ use an explicit receiver on a top-level method.\n",
    "\n",
    "From our earliest examples onward, we've been making bareword-style calls to `puts` and `print`, like this one:"
   ]
  },
  {
   "cell_type": "code",
   "execution_count": 11,
   "id": "metropolitan-store",
   "metadata": {},
   "outputs": [
    {
     "name": "stdout",
     "output_type": "stream",
     "text": [
      "Hello\n"
     ]
    }
   ],
   "source": [
    "puts 'Hello'"
   ]
  },
  {
   "cell_type": "markdown",
   "id": "undefined-camel",
   "metadata": {},
   "source": [
    "`puts` and `print` are built-in private instance methods of `Kernel`. That's why you can - indeed, must - call them without a receiver.\n",
    "\n",
    "We shall talk about [`self`](self.ipynb) in more detail, later."
   ]
  }
 ],
 "metadata": {
  "kernelspec": {
   "display_name": "Ruby 3.0.0",
   "language": "ruby",
   "name": "ruby"
  },
  "language_info": {
   "file_extension": ".rb",
   "mimetype": "application/x-ruby",
   "name": "ruby",
   "version": "3.0.1"
  }
 },
 "nbformat": 4,
 "nbformat_minor": 5
}
