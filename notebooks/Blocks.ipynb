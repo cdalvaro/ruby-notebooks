{
 "metadata": {
  "language_info": {
   "codemirror_mode": {
    "name": "ipython",
    "version": 3
   },
   "file_extension": ".py",
   "mimetype": "text/x-python",
   "name": "python",
   "nbconvert_exporter": "python",
   "pygments_lexer": "ipython3",
   "version": 3
  },
  "orig_nbformat": 2,
  "kernelspec": {
   "name": "ruby",
   "display_name": "Ruby 3.0.0",
   "language": "ruby"
  }
 },
 "nbformat": 4,
 "nbformat_minor": 2,
 "cells": [
  {
   "source": [
    "# Blocks in Ruby\n",
    "\n",
    "Ruby Code blocks (called _closures_ in other languages) are definitely one of the coolest features of Ruby and are chunks of code between braces or between `do..end` that you can associate with _method_ invocations, almost as if they were parameters. A Ruby block is a way of grouping statemetns, and may appear only in the source _adjacent to a method call_; the block is written starting on the same line as the method call's last parameter (or the closing parenthesis of the parameter list). The code in the block is not executed at the time it is encountered. Instead, Ruby remembers the context in which the blocks appears (the local variables, the current object, and so on) and then enters the method.\n",
    "\n",
    "The Ruby standard is to use braces for single-line blocks and `do..end` for multi-line blocks. Keep in mind that the braces syntax has a higher precedence than the `do..end` syntax. Braces have a high precedence; `do` has a low precedence. If the method invocation has parameters that are not enclosed in parentheses, the brace form of a block will bind to the last parameter, not to the overall invocation. The `do` form will bind to the invocation.\n",
    "\n",
    "Matz says that _any method_ can be called with blocks as an implicit argument. Inside the method, you can call the block using the `yield` keyword with a value.\n",
    "\n",
    "Also, as you will soon learn, blocks can have their own arguments. There are many methods in Ruby that iterate over a range of values. Most of these iterators are written in such a way as to be able to take a code block as part of the calling syntax. The method can then yiled control to the code block (i.e. execute the block) during execution as many times as is necessary for the iteration to complete (e.g. if we are iterating over array values, we can execute the block as many times as there are array values etc.).\n",
    "\n",
    "Once you have created a block, you can associate it with a call to a method. Usually the code blocks passed into methods are anonymous objects, created on the spot. For example, in the following code, the block containing `puts \"Hello\"` is associated with the call to a method `greet`."
   ],
   "cell_type": "markdown",
   "metadata": {}
  },
  {
   "cell_type": "code",
   "execution_count": 1,
   "metadata": {},
   "outputs": [
    {
     "output_type": "stream",
     "name": "stdout",
     "text": [
      "Hello\n"
     ]
    }
   ],
   "source": [
    "def greet\n",
    "    yield\n",
    "end\n",
    "greet {puts \"Hello\"}"
   ]
  },
  {
   "source": [
    "If the method has parameters, they appear before the block."
   ],
   "cell_type": "markdown",
   "metadata": {}
  },
  {
   "cell_type": "code",
   "execution_count": 2,
   "metadata": {},
   "outputs": [
    {
     "output_type": "stream",
     "name": "stdout",
     "text": [
      "PuneRuby\n",
      "Hello\n"
     ]
    }
   ],
   "source": [
    "def verbose_greet(info)\n",
    "    puts info\n",
    "    yield\n",
    "end\n",
    "verbose_greet(\"PuneRuby\") {puts 'Hello'}"
   ]
  },
  {
   "source": [
    "A method can then invoke an _associated_ block one or more times using the Ruby `yield` statement.\n",
    "\n",
    "Thus any method that wants to take a block as a parameter can use the `yield` keyword to execute the block at any time."
   ],
   "cell_type": "markdown",
   "metadata": {}
  },
  {
   "cell_type": "code",
   "execution_count": 3,
   "metadata": {},
   "outputs": [
    {
     "output_type": "stream",
     "name": "stdout",
     "text": [
      "Start of method\n",
      "In the block\n",
      "In the block\n",
      "End of method\n"
     ]
    }
   ],
   "source": [
    "def call_block\n",
    "    puts 'Start of method'\n",
    "    yield\n",
    "    yield\n",
    "    puts 'End of method'\n",
    "end\n",
    "call_block {puts 'In the block'}"
   ]
  },
  {
   "source": [
    "If you provide a code block when you call a method, then inside the method, you can yield control to that code block - suspend execution of the method; execute the code in the block; and return control to the method body, right after the call to `yield`. If no code block is passed and `yield` is called, Ruby raises an exception:\n",
    "\n",
    "```\n",
    "no block given (LocalJumpError)\n",
    "```\n",
    "\n",
    "You can provide parameters to the call to `yield`: these will be passed to the block. Within the block, you list the names of the arguments to receive the parameters between vertical bars (`|`)."
   ],
   "cell_type": "markdown",
   "metadata": {}
  },
  {
   "cell_type": "code",
   "execution_count": 4,
   "metadata": {},
   "outputs": [
    {
     "output_type": "stream",
     "name": "stdout",
     "text": [
      "hello 99\n"
     ]
    }
   ],
   "source": [
    "def call_block\n",
    "    yield('hello', 99)\n",
    "end\n",
    "call_block {|str, num| puts str + ' ' + num.to_s}"
   ]
  },
  {
   "source": [
    "**Note** that the code in the block is not executed at the time it is encountered by the Ruby interpreter. Instead, Ruby remembers the context in which the block appears and then enters the method.\n",
    "\n",
    "A code block's return value (like that of a method) is the value of the last expression evaluated in the code block. This return valur is made available inside the method; it comes through as the return value of `yield`.\n",
    "\n",
    "`block_given?` returns `true` if the function is passed with a block which can be yielded."
   ],
   "cell_type": "markdown",
   "metadata": {}
  },
  {
   "cell_type": "code",
   "execution_count": 5,
   "metadata": {},
   "outputs": [
    {
     "output_type": "stream",
     "name": "stdout",
     "text": [
      "no block\n",
      "hello\n",
      "bye\n"
     ]
    }
   ],
   "source": [
    "def try\n",
    "    if block_given?\n",
    "        yield\n",
    "    else\n",
    "        puts 'no block'\n",
    "    end\n",
    "end\n",
    "try\n",
    "try {puts 'hello'}\n",
    "try do puts 'bye' end"
   ]
  },
  {
   "source": [
    "## Block Variables\n",
    "\n",
    "Let us see what happens in the following example when a variable outside a block is `x` and a block parameter is also named `x`."
   ],
   "cell_type": "markdown",
   "metadata": {}
  },
  {
   "cell_type": "code",
   "execution_count": 6,
   "metadata": {},
   "outputs": [
    {
     "output_type": "stream",
     "name": "stdout",
     "text": [
      "x inside the block: 0\n",
      "x inside the block: 1\n",
      "x inside the block: 2\n",
      "x inside the block: 3\n",
      "x inside the block: 4\n",
      "x outside the block: 10\n"
     ]
    }
   ],
   "source": [
    "x = 10\n",
    "5.times do |x|\n",
    "    puts \"x inside the block: #{x}\"\n",
    "end\n",
    "puts \"x outside the block: #{x}\""
   ]
  },
  {
   "source": [
    "You will observe that after the block has executed, `x` outside the block is the original `x`. Hence the block parameter `x` was local to the block.\n",
    "\n",
    "Next observe what happens to `x` in the following example:"
   ],
   "cell_type": "markdown",
   "metadata": {}
  },
  {
   "cell_type": "code",
   "execution_count": 7,
   "metadata": {},
   "outputs": [
    {
     "output_type": "stream",
     "name": "stdout",
     "text": [
      "x inside the block: 0\n",
      "x inside the block: 1\n",
      "x inside the block: 2\n",
      "x inside the block: 3\n",
      "x inside the block: 4\n",
      "x outside the block: 4\n"
     ]
    }
   ],
   "source": [
    "x = 10\n",
    "5.times do |y|\n",
    "    x = y\n",
    "    puts \"x inside the block: #{x}\"\n",
    "end\n",
    "puts \"x outside the block: #{x}\""
   ]
  },
  {
   "source": [
    "Since `x` is _not a block parameter_ here, the variable `x` is the same inside and outside the block.\n",
    "\n",
    "From Ruby 1.9 on-wards, blocks introduced their own scope for the _block parameters only_. This is illustrated by the following example:"
   ],
   "cell_type": "markdown",
   "metadata": {}
  },
  {
   "cell_type": "code",
   "execution_count": 8,
   "metadata": {},
   "outputs": [
    {
     "output_type": "stream",
     "name": "stdout",
     "text": [
      "x inside the block: 0\n",
      "x inside the block: 1\n",
      "x inside the block: 2\n",
      "x inside the block: 3\n",
      "x inside the block: 4\n",
      "x outside the block: 10\n"
     ]
    }
   ],
   "source": [
    "x = 10\n",
    "5.times do |y; x|\n",
    "    x = y\n",
    "    puts \"x inside the block: #{x}\"\n",
    "end\n",
    "puts \"x outside the block: #{x}\""
   ]
  },
  {
   "source": [
    "In the above block, a new feature is being used: block local variable. In short, block local variables shield a block from manipulating variables outside of its scope. This prevents a block from unintencionally clobbering any variables outside its scope. If you don't want to clobber variables, use block local variables for the variables your block creates.\n",
    "\n",
    "The syntax for a block local variable is simple. Put a semicolon after the normal block parameter list, then list the variable you want as block local variables. For example, if the block takes two variables `a` and `b`, and uses to local variable `x` and `y`, the parameter list would look like this: `|a,b;x,y|`."
   ],
   "cell_type": "markdown",
   "metadata": {}
  }
 ]
}