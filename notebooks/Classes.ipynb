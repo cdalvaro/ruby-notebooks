{
 "cells": [
  {
   "cell_type": "markdown",
   "id": "green-treat",
   "metadata": {},
   "source": [
    "# Classes in Ruby\n",
    "\n",
    "So far, the procedural style of programmimg (this continues to be used in languages such as C) was used to write our programs. Programming procedurally means you focus on the steps required to complete a task without paying particular attention to how the data is managed.\n",
    "\n",
    "In the Object-Orientation style, objects are your agents, your proxies, in the universe of your program. You ask them for information. You assign them tasks to accomplish. You tell them to perform calculations and report back to you. You hand them to each other and get them to work together.\n",
    "\n",
    "When you design a class, think about the objects that will be created from that class type. Think about the things the object **knows** and the this the object **does**.\n",
    "\n",
    "Things an objects **knows** about itself are called _instance_ variables. They represent an object's state (the data - for example, the quantity and the product id), and can have unique values for each object of that type.\n",
    "\n",
    "Things an object ca **do** are called methods:\n",
    "\n",
    "> An object is an entity that serves as a container for data and also controls access to the data. Associated with an object is a set of attributes, which are essentially no more than variables belonging to that object. Also associated with an object is a set of functions that provide an interface to the functionality of the object, called methods. - Hal Fulton\n",
    "\n",
    "An object is a combination of state and methods that use the state.\n",
    "\n",
    "Hence a class is used to construct an object. A class is a blueprint for an object. For example, you might use a Button class to make dozens of different buttons, and each button might have its own color, size, shape, label and so on. An object is an instance of a class.\n",
    "\n",
    "**Read this very carefully, it's a brain bender!**\n",
    "\n",
    "> Classes in Ruby are first-class objects - each is an instance of class `Class`. When a new class is defined (typically using `class Name` ... `end`), an object of type `Class` is created and assigned to a constant (`Name` in this case). When `Name.new` is called to create a new object, the `new` class method in `Class` is run by default, which in turn invokes `allocate` to allocate memory for the object, before finally calling the new object's `initialize` method.\n",
    ">\n",
    "> The constructing and initializing phases of an object are separate and both can be overridden. The construction is done via the `new` class method, the initialization is done via the `initialize` instance method. `initialize` is not a constructor!\n",
    "\n",
    "The following class hierarchy (courtesy: [Nick Morgan](http://skilldrick.co.uk/2011/08/understanding-the-ruby-object-model/)) is informative:\n",
    "\n",
    "![Ruby Class](images/rubyclass.jpg)"
   ]
  },
  {
   "cell_type": "code",
   "execution_count": 1,
   "id": "experienced-sheriff",
   "metadata": {},
   "outputs": [
    {
     "data": {
      "text/plain": [
       "#<Dog:0x00007fa9dea48618 @breed=\"Labrador\", @name=\"Benzy\">"
      ]
     },
     "execution_count": 1,
     "metadata": {},
     "output_type": "execute_result"
    }
   ],
   "source": [
    "class Dog\n",
    "  def initialize(breed, name)\n",
    "    # Instance variables\n",
    "    @breed = breed\n",
    "    @name = name\n",
    "  end\n",
    "  \n",
    "  def bark\n",
    "    puts 'Ruff! Ruff!'\n",
    "  end\n",
    "  \n",
    "  def display\n",
    "    puts \"I am of #{@breed} breed and my name is #{@name}\"\n",
    "  end\n",
    "end\n",
    "\n",
    "# Make an object\n",
    "# Objects are created on the heap\n",
    "d = Dog.new('Labrador', 'Benzy')"
   ]
  },
  {
   "cell_type": "markdown",
   "id": "legislative-reference",
   "metadata": {},
   "source": [
    "Every object is _born_ with certain innate abilities. To see a list of innate methods, you can call the `methods` method (and throw in a sort operation, to make it easier to browse visually)."
   ]
  },
  {
   "cell_type": "code",
   "execution_count": 2,
   "id": "sublime-board",
   "metadata": {},
   "outputs": [
    {
     "name": "stdout",
     "output_type": "stream",
     "text": [
      "[:!, :!=, :!~, :<=>, :==, :===, :=~, :__id__, :__send__, :bark, :class, :clone, :define_singleton_method, :display, :dup, :enum_for, :eql?, :equal?, :extend, :freeze, :frozen?, :hash, :inspect, :instance_eval, :instance_exec, :instance_of?, :instance_variable_defined?, :instance_variable_get, :instance_variable_set, :instance_variables, :is_a?, :itself, :kind_of?, :method, :methods, :nil?, :object_id, :private_methods, :protected_methods, :public_method, :public_methods, :public_send, :remove_instance_variable, :respond_to?, :send, :singleton_class, :singleton_method, :singleton_methods, :taint, :tainted?, :tap, :then, :to_enum, :to_json, :to_s, :trust, :untaint, :untrust, :untrusted?, :yield_self]\n"
     ]
    }
   ],
   "source": [
    "puts d.methods.sort"
   ]
  },
  {
   "cell_type": "markdown",
   "id": "loving-section",
   "metadata": {},
   "source": [
    "Amongst these many methods, the methods `object_id` and `responds_to?` are important. Every object in Ruby has a unique id number associated with it."
   ]
  },
  {
   "cell_type": "code",
   "execution_count": 3,
   "id": "radio-outside",
   "metadata": {},
   "outputs": [
    {
     "name": "stdout",
     "output_type": "stream",
     "text": [
      "The id of d is 1400.\n"
     ]
    }
   ],
   "source": [
    "puts \"The id of d is #{d.object_id}.\""
   ]
  },
  {
   "cell_type": "markdown",
   "id": "dangerous-acrobat",
   "metadata": {},
   "source": [
    "To know whether the object knows how to handle the message you wnat to send it, by using the `respond_to?` method."
   ]
  },
  {
   "cell_type": "code",
   "execution_count": 4,
   "id": "indoor-sociology",
   "metadata": {},
   "outputs": [
    {
     "name": "stdout",
     "output_type": "stream",
     "text": [
      "Sorry, d doesn't undestand the 'talk' message.\n",
      "d:\n",
      "Ruff! Ruff!\n",
      "I am of Labrador breed and my name is Benzy\n",
      "d1:\n",
      "I am of Labrador breed and my name is Benzy\n",
      "d:\n"
     ]
    }
   ],
   "source": [
    "if d.respond_to?(\"talk\")\n",
    "  d.talk\n",
    "else\n",
    "  puts \"Sorry, d doesn't undestand the 'talk' message.\"\n",
    "end\n",
    "\n",
    "puts 'd:'\n",
    "d.bark\n",
    "d.display\n",
    "\n",
    "# Making d and d1 point to the same object\n",
    "puts 'd1:'\n",
    "d1 = d\n",
    "d1.display\n",
    "\n",
    "# Making d a nil reference, meaning it does not refer to anything\n",
    "puts 'd:'\n",
    "d = nil\n",
    "d.display\n",
    "\n",
    "# If I now say\n",
    "d1 = nil\n",
    "# then the Dog object is abandoned and eligible for Garbage Collection (GC)"
   ]
  },
  {
   "cell_type": "markdown",
   "id": "protecting-command",
   "metadata": {},
   "source": [
    "The method `new` is used to create an object of class `Dog`. Objects are created on the heap. The variable `d` is known as a reference variable. It does not hold the object itself, but it holds something like a pointer or an address of the object. You use the dot operator(`.`) on a reference variable to say, _\"use the thing before the dot to get me the thing after the dot.\"_ For example:\n",
    "\n",
    "```ruby\n",
    "d.bark\n",
    "```\n",
    "\n",
    "> **IN RAILS**: If you're writting a Rails application in which one of your entity models is, say, `Customer`, then when you write the code that causes things to happen - a customer logging into a site, updating a customer's phone number, adding an item to a customer's shopping cart - in all likelihood you'll be sending messages to customers objects.\n",
    "\n",
    "Even a newly created object isn't a blank state. As soon as an object comes into existance, it already responds to a number of messages.\n",
    "\n",
    "You can ask any object of which class it's a member by using its `Object.class` method. In the above program, if we write the statement:"
   ]
  },
  {
   "cell_type": "code",
   "execution_count": 5,
   "id": "light-reading",
   "metadata": {},
   "outputs": [
    {
     "name": "stdout",
     "output_type": "stream",
     "text": [
      "Dog\n"
     ]
    }
   ],
   "source": [
    "d = Dog.new('Alsatian', 'Lassie')\n",
    "puts d.class.to_s"
   ]
  },
  {
   "cell_type": "markdown",
   "id": "apparent-ballet",
   "metadata": {},
   "source": [
    "`instance_of?` returns `true` if object is an instance of the given class, as in this example:"
   ]
  },
  {
   "cell_type": "code",
   "execution_count": 6,
   "id": "stainless-nation",
   "metadata": {},
   "outputs": [
    {
     "name": "stdout",
     "output_type": "stream",
     "text": [
      "true\n"
     ]
    }
   ],
   "source": [
    "num = 10\n",
    "puts(num.instance_of? Fixnum)"
   ]
  },
  {
   "cell_type": "markdown",
   "id": "sought-capitol",
   "metadata": {},
   "source": [
    "Often, it is better to ask `respond_to?` rathern than `instance_of?` as we usually care about 'ability' rather than 'type'."
   ]
  },
  {
   "cell_type": "markdown",
   "id": "golden-listening",
   "metadata": {},
   "source": [
    "## Literal Constructors\n",
    "\n",
    "That means you can use special notation, instead of a call to `new`, to create a new object of that class. The classes with literal constructors are shown in the table below. When you use one of these literal constructors, you bring a new object into existance.\n",
    "\n",
    "Examples:\n",
    "\n",
    "- `String` - 'hello' or \"hello\"\n",
    "- `Symbol` - :symbol or :\"hello world\"\n",
    "- `Array` - \\[x, y, z\\]\n",
    "- `Hash` - {\"Spain\" => \"ES\"}\n",
    "- `Range` - 3..7 or 3...7\n",
    "\n",
    "Observe that there is no visible call to `new`."
   ]
  },
  {
   "cell_type": "markdown",
   "id": "interstate-composition",
   "metadata": {},
   "source": [
    "## Garbage Collection\n",
    "\n",
    "The statement:\n",
    "\n",
    "```ruby\n",
    "d = nil\n",
    "```\n",
    "\n",
    "makes `d` a `nil` reference, meaning it does not refer to anything. If I now say:\n",
    "\n",
    "```ruby\n",
    "d1 = nil\n",
    "```\n",
    "\n",
    "then the `Dog` object is abandoned and eligible for _**Garbage Collection**_ (GC). The Ruby object heap allocates a minimum of _8 megabytes_. Ruby's GC is called _mark-and-sweep_.\n",
    "\n",
    "The \"mark\" stage checks objects to see if they are still in use. If an object is in a variable that can still be used in the current scope, the object (and any object inside that object) is marked for keeping.\n",
    "\n",
    "If the variable is long gone, off in another method, the object isn't marked. The \"sweep\" stage then frees objects which haven't been marked.\n",
    "\n",
    "Ruby uses a conservative mark-and-sweep GC mechanism. There is no guarantee that an object will undergo garbage collection before the program terminates."
   ]
  },
  {
   "cell_type": "markdown",
   "id": "gentle-miami",
   "metadata": {},
   "source": [
    "## Class Methods\n",
    "\n",
    "The idea of a class method is that you send a message to the object that is the class rather than to one of the class's instances. Class methods serve a purpose. Some operations pertaining to a class can't be performed by individual instances of that class. `new` is an excellent example. We call `Dog.new` because, until we've created an individual dog instance, we can't send it any messages! Besided, the job of spawning a new object logically belongs to the class. It doesn't make sense for instances of `Dog` to spawn each other. It does make sense, however, for the instance-creation process to be centralized as an activity of the class `Dog`. It's vital to understand that by `Dog.new`, we have a method that we can access through the class object `Dog` but not through its instances. Individual dog objects (instances of the class `Dog`) do not have this method. A class object (like `Dog`) has its own methods, its own state, its own identity. It doesn't share these things with instances of itself.\n",
    "\n",
    "Here's an example:\n",
    "\n",
    "`Dog#bark` - the instance method `bark` in the class `Dog`.\n",
    "`Dog.color` - the class method `color`, in the class `Dog`.\n",
    "`Dog::color` - another way to refer to the class method `color`.\n",
    "\n",
    "In writting about Ruby, the _pound notation_ (#) is sometimes used to indicate an instance method - for example, we say `File.chmod` to denote the class method `chmod` of class `File`, and `File#chmod` to denote the instance method that has the same name. **This notation is not part of Ruby syntax**.\n",
    "\n",
    "You will learn how to write class methods, later on [here](Constants.ipynb)."
   ]
  }
 ],
 "metadata": {
  "kernelspec": {
   "display_name": "Ruby 3.0.0",
   "language": "ruby",
   "name": "ruby"
  },
  "language_info": {
   "file_extension": ".rb",
   "mimetype": "application/x-ruby",
   "name": "ruby",
   "version": "3.0.1"
  }
 },
 "nbformat": 4,
 "nbformat_minor": 5
}
