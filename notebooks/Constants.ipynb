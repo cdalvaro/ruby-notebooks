{
 "cells": [
  {
   "cell_type": "markdown",
   "id": "banned-anderson",
   "metadata": {},
   "source": [
    "# Constants in Ruby\n",
    "\n",
    "A Ruby constant is like a variable, except that its value is supposed to remain constant for the duration of the program. The Ruby interpreter does not actually enforce the constancy of constants, but it does issue a warning if a program changes the value of a constant (as shown in this trivial example)"
   ]
  },
  {
   "cell_type": "code",
   "execution_count": 1,
   "id": "canadian-watson",
   "metadata": {},
   "outputs": [
    {
     "name": "stderr",
     "output_type": "stream",
     "text": [
      "(eval):2: warning: already initialized constant A_CONST\n",
      "(eval):1: warning: previous definition of A_CONST was here\n"
     ]
    },
    {
     "data": {
      "text/plain": [
       "20"
      ]
     },
     "execution_count": 1,
     "metadata": {},
     "output_type": "execute_result"
    }
   ],
   "source": [
    "A_CONST = 10\n",
    "A_CONST = 20"
   ]
  },
  {
   "cell_type": "markdown",
   "id": "sacred-license",
   "metadata": {},
   "source": [
    "Lexically, the names of constants look like the names of local variables, except that they begin with a capital letter. By convention, most constants are written in all uppercase with underscores to separate words, `LIKE_THIS`.\n",
    "\n",
    "Ruby class and module names are also constants, but they are conventionally written using initial capital letters and camel case, `LikeThis`.\n",
    "\n",
    "Note that constants do not exist until a value is actually assigned to them.\n",
    "\n",
    "Although constants should not be changed, you can _modify_ the internal stats of the objects they reference."
   ]
  },
  {
   "cell_type": "code",
   "execution_count": 2,
   "id": "noble-excerpt",
   "metadata": {},
   "outputs": [
    {
     "name": "stderr",
     "output_type": "stream",
     "text": [
      "(eval):1: warning: already initialized constant A_CONST\n",
      "(eval):2: warning: previous definition of A_CONST was here\n"
     ]
    },
    {
     "name": "stdout",
     "output_type": "stream",
     "text": [
      "Joshi\n",
      "Joshi\n"
     ]
    }
   ],
   "source": [
    "A_CONST = \"Doshi\"\n",
    "B_CONST = A_CONST\n",
    "\n",
    "# Alter string referenced by constant\n",
    "A_CONST[0] = \"J\"\n",
    "\n",
    "puts A_CONST\n",
    "puts B_CONST"
   ]
  },
  {
   "cell_type": "markdown",
   "id": "designing-habitat",
   "metadata": {},
   "source": [
    "> **IN RAILS**: You can find examples of this kind of operation (modify) in the Rails source code, where constants figure prominently and the objects they represent undergo fairly frequent changes.\n",
    "\n",
    "**Note**:\n",
    "\n",
    "- Constants defined within a class or module may be accessed anywhere within the class or module.\n",
    "- Outside the class or module, they may be accessed using the scope operator, `::` prefixed by an expression that returns the appropriate class or module.\n",
    "- Constants defined outside any class or module may be accessed as it is or by using the scope operator with no prefix.\n",
    "- Constants may _not_ be defined in methods.\n",
    "- Constants may be added to existing classes and modules from the outside by using the class or module name and the scope operator before the constant name."
   ]
  },
  {
   "cell_type": "code",
   "execution_count": 3,
   "id": "fifth-johns",
   "metadata": {},
   "outputs": [
    {
     "name": "stdout",
     "output_type": "stream",
     "text": [
      "100\n",
      "100\n",
      "99\n",
      "123\n"
     ]
    }
   ],
   "source": [
    "OUTER_CONST = 99\n",
    "\n",
    "class Const\n",
    "  def get_const\n",
    "    CONST\n",
    "  end\n",
    "  CONST = OUTER_CONST + 1\n",
    "end\n",
    "\n",
    "puts Const.new.get_const\n",
    "puts Const::CONST\n",
    "puts ::OUTER_CONST\n",
    "puts Const::NEW_CONST = 123"
   ]
  },
  {
   "cell_type": "markdown",
   "id": "rational-distinction",
   "metadata": {},
   "source": [
    "Another elaborate example on own methods in a class is the following."
   ]
  },
  {
   "cell_type": "code",
   "execution_count": 4,
   "id": "turkish-teacher",
   "metadata": {},
   "outputs": [
    {
     "data": {
      "text/plain": [
       "[:inst, :inst=]"
      ]
     },
     "execution_count": 4,
     "metadata": {},
     "output_type": "execute_result"
    }
   ],
   "source": [
    "# Global variables start with $\n",
    "$glob = 5\n",
    "\n",
    "class TestVar\n",
    "  # Class variables start with @@\n",
    "  @@cla = 6\n",
    "  CONST_VAL = 7\n",
    "  \n",
    "  def initialize(x)\n",
    "    @inst = x\n",
    "    \n",
    "    # Each object shares @@cla\n",
    "    @@cla += 1\n",
    "  end\n",
    "  \n",
    "  def self.cla\n",
    "    @@cla\n",
    "  end\n",
    "  \n",
    "  def self.cla=(y)\n",
    "    @@cla = y\n",
    "  end\n",
    "  \n",
    "  attr_accessor :inst\n",
    "end"
   ]
  },
  {
   "cell_type": "code",
   "execution_count": 5,
   "id": "atomic-nevada",
   "metadata": {},
   "outputs": [
    {
     "name": "stdout",
     "output_type": "stream",
     "text": [
      "5\n",
      "7\n",
      "#<TestVar:0x00007fd4a58ad870 @inst=3>\n",
      "4\n",
      "8\n",
      "#<TestVar:0x00007fd4a58b6448 @inst=17>\n",
      "5\n"
     ]
    }
   ],
   "source": [
    "puts $glob\n",
    "\n",
    "test = TestVar.new(3)\n",
    "puts TestVar.cla\n",
    "puts test.inspect\n",
    "TestVar.cla = 4\n",
    "test.inst = 8\n",
    "\n",
    "puts TestVar.cla\n",
    "puts test.inst\n",
    "\n",
    "other = TestVar.new(17)\n",
    "puts other.inspect\n",
    "puts TestVar.cla"
   ]
  }
 ],
 "metadata": {
  "kernelspec": {
   "display_name": "Ruby 3.0.0",
   "language": "ruby",
   "name": "ruby"
  },
  "language_info": {
   "file_extension": ".rb",
   "mimetype": "application/x-ruby",
   "name": "ruby",
   "version": "3.0.1"
  }
 },
 "nbformat": 4,
 "nbformat_minor": 5
}
