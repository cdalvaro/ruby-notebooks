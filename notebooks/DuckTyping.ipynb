{
 "cells": [
  {
   "cell_type": "markdown",
   "id": "assigned-house",
   "metadata": {},
   "source": [
    "# Duck Typing in Ruby\n",
    "\n",
    "You'll have noticed that in Ruby we don't declare the types of variables or methods - everything is just some kind of object. Ruby objects (unlike objects in some other object-oriented languages) can be individually modified. You can always add methods on a per object basis. In Ruby, the behavior or capabilities of an object can deviate from those supplied by its class.\n",
    "\n",
    "> In Ruby, we rely less on the type (or class) of an object and more on its capabilities.\n",
    ">\n",
    "> Hence, Duck Typing means an object type is defined by what it can do, not by what it is. Duck Typing refers to the tendency of Ruby to be less concerned with the class of an object and more concerned with what methods can be called on it and what operations can be performed on it.\n",
    ">\n",
    "> In Ruby, we would use `respond_to?` or might simply pass an object to a method and know that an exception will be raised if it is used inappropriately.\n",
    "\n",
    "If an object walks like a duck and talks like a duck, then the Ruby interpreter is happy to treat it as if it were a duck.\n",
    "\n",
    "Consider the following example:"
   ]
  },
  {
   "cell_type": "code",
   "execution_count": 1,
   "id": "catholic-weapon",
   "metadata": {},
   "outputs": [
    {
     "data": {
      "text/plain": [
       "true"
      ]
     },
     "execution_count": 1,
     "metadata": {},
     "output_type": "execute_result"
    }
   ],
   "source": [
    "'A string'.respond_to?(:to_str)"
   ]
  },
  {
   "cell_type": "code",
   "execution_count": 2,
   "id": "native-brief",
   "metadata": {},
   "outputs": [
    {
     "data": {
      "text/plain": [
       "false"
      ]
     },
     "execution_count": 2,
     "metadata": {},
     "output_type": "execute_result"
    }
   ],
   "source": [
    "Exception.respond_to?(:to_str)"
   ]
  },
  {
   "cell_type": "code",
   "execution_count": 3,
   "id": "pending-catch",
   "metadata": {},
   "outputs": [
    {
     "data": {
      "text/plain": [
       "false"
      ]
     },
     "execution_count": 3,
     "metadata": {},
     "output_type": "execute_result"
    }
   ],
   "source": [
    "4.respond_to?(:to_str)"
   ]
  },
  {
   "cell_type": "markdown",
   "id": "bizarre-exhibit",
   "metadata": {},
   "source": [
    "The above examples are the simplest examples of Ruby's philosophy of \"duck typing\": if an object quacks like a duck (or acts like a string), just go ahead and treat it as a duck (or a string). Whenever possible, you should treat objects according to the methods they define rather than the classes from which they inherit or the modules they include.\n",
    "\n",
    "Now consider the following three classes - `Duck`, `Goose` and `DuckRecording`."
   ]
  },
  {
   "cell_type": "code",
   "execution_count": 4,
   "id": "legislative-firmware",
   "metadata": {},
   "outputs": [
    {
     "data": {
      "text/plain": [
       ":swim"
      ]
     },
     "execution_count": 4,
     "metadata": {},
     "output_type": "execute_result"
    }
   ],
   "source": [
    "class Duck\n",
    "  def quack\n",
    "    'Quack!'\n",
    "  end\n",
    "  \n",
    "  def swim\n",
    "    'Paddle paddle paddle...'\n",
    "  end\n",
    "end"
   ]
  },
  {
   "cell_type": "code",
   "execution_count": 5,
   "id": "dimensional-restriction",
   "metadata": {},
   "outputs": [
    {
     "data": {
      "text/plain": [
       ":swim"
      ]
     },
     "execution_count": 5,
     "metadata": {},
     "output_type": "execute_result"
    }
   ],
   "source": [
    "class Goose\n",
    "  def honk\n",
    "    'Honk!'\n",
    "  end\n",
    "  \n",
    "  def swim\n",
    "    'Splash splash splash...'\n",
    "  end\n",
    "end"
   ]
  },
  {
   "cell_type": "code",
   "execution_count": 6,
   "id": "jewish-highway",
   "metadata": {},
   "outputs": [
    {
     "data": {
      "text/plain": [
       ":play"
      ]
     },
     "execution_count": 6,
     "metadata": {},
     "output_type": "execute_result"
    }
   ],
   "source": [
    "class DuckRecording\n",
    "  def quack\n",
    "    play\n",
    "  end\n",
    "  \n",
    "  def play\n",
    "    'Quack!'\n",
    "  end\n",
    "end"
   ]
  },
  {
   "cell_type": "markdown",
   "id": "latest-cookie",
   "metadata": {},
   "source": [
    "A method that told a `Duck` to quack works when given a `DuckRecording`, due to _duck typing_."
   ]
  },
  {
   "cell_type": "code",
   "execution_count": 7,
   "id": "fancy-sentence",
   "metadata": {},
   "outputs": [
    {
     "name": "stdout",
     "output_type": "stream",
     "text": [
      "Quack!\n",
      "Quack!\n"
     ]
    }
   ],
   "source": [
    "def make_it_quack(duck)\n",
    "  duck.quack\n",
    "end\n",
    "\n",
    "puts make_it_quack(Duck.new)\n",
    "puts make_it_quack(DuckRecording.new)"
   ]
  },
  {
   "cell_type": "markdown",
   "id": "trying-threshold",
   "metadata": {},
   "source": [
    "Similarly in the following code, a method that tells a `Duck` to swim when given a `Goose`, works."
   ]
  },
  {
   "cell_type": "code",
   "execution_count": 8,
   "id": "endless-mayor",
   "metadata": {},
   "outputs": [
    {
     "name": "stdout",
     "output_type": "stream",
     "text": [
      "Paddle paddle paddle...\n",
      "Splash splash splash...\n"
     ]
    }
   ],
   "source": [
    "def make_it_swim(duck)\n",
    "  duck.swim\n",
    "end\n",
    "\n",
    "puts make_it_swim(Duck.new)\n",
    "puts make_it_swim(Goose.new)"
   ]
  }
 ],
 "metadata": {
  "kernelspec": {
   "display_name": "Ruby 3.0.0",
   "language": "ruby",
   "name": "ruby"
  },
  "language_info": {
   "file_extension": ".rb",
   "mimetype": "application/x-ruby",
   "name": "ruby",
   "version": "3.0.1"
  }
 },
 "nbformat": 4,
 "nbformat_minor": 5
}
