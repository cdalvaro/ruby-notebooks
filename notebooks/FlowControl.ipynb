{
 "cells": [
  {
   "cell_type": "markdown",
   "metadata": {},
   "source": [
    "# Flow Control in Ruby\n",
    "\n",
    "Let's explore some very simple constructs available in Ruby.\n",
    "\n",
    "By the Ruby convention, `if` and `while` do not require parenthesis.\n",
    "\n",
    "In Ruby, `nil` and `false` evaluate to `false`, everything else (including `true`, `0`) means true.\n",
    "`nil` is an actual object."
   ]
  },
  {
   "cell_type": "markdown",
   "metadata": {},
   "source": [
    "## Table of Contents\n",
    "\n",
    "  - [Conditional ?:](#Conditional-?:)\n",
    "  - [Statement Modifiers](#Statement-Modifiers)\n",
    "  - [Case Expressions](#Case-Expressions)\n",
    "  - [`nil` is an Object](#nil-is-an-Object)\n",
    "  - [Difference between `false` and `nil`](#Difference-between-false-and-nil)"
   ]
  },
  {
   "cell_type": "code",
   "execution_count": 1,
   "metadata": {},
   "outputs": [
    {
     "name": "stdout",
     "output_type": "stream",
     "text": [
      "Variable is greater than 4\n",
      "I can have multiple statements here\n",
      "Nested if else possible\n"
     ]
    }
   ],
   "source": [
    "var = 5\n",
    "if var > 4\n",
    "    puts \"Variable is greater than 4\"\n",
    "    puts \"I can have multiple statements here\"\n",
    "    if var == 5\n",
    "        puts \"Nested if else possible\"\n",
    "    else\n",
    "        puts \"Too cool\"\n",
    "    end\n",
    "else\n",
    "    puts \"Variable is not greater than 5\"\n",
    "    puts \"I can have multiple statements here\"\n",
    "end"
   ]
  },
  {
   "cell_type": "markdown",
   "metadata": {},
   "source": [
    "An example of using `elsif` is the following one:"
   ]
  },
  {
   "cell_type": "code",
   "execution_count": 2,
   "metadata": {},
   "outputs": [
    {
     "name": "stdout",
     "output_type": "stream",
     "text": [
      "Another nice name!!\n",
      "Another nice name!!\n",
      "What a nice name!!\n"
     ]
    }
   ],
   "source": [
    "# Without using elsif\n",
    "name = 'Kevin'\n",
    "if name == 'Fran'\n",
    "    puts 'What a nice name!!'\n",
    "else\n",
    "    if name == 'Kevin'\n",
    "        puts 'Another nice name!!'\n",
    "    end\n",
    "end\n",
    "\n",
    "# Using elsif\n",
    "if name == 'Fran'\n",
    "    puts 'What a nice name!!'\n",
    "elsif name == 'Kevin'\n",
    "    puts 'Another nice name!!'\n",
    "end\n",
    "\n",
    "# Using the || (or) operator\n",
    "if name == 'Fran' || name == 'Kevin'\n",
    "    puts 'What a nice name!!'\n",
    "end"
   ]
  },
  {
   "cell_type": "markdown",
   "metadata": {},
   "source": [
    "Some common conditional operators are: `==`, `!=`, `>=`, `<=`, `<`, `>`\n",
    "\n",
    "`unless`, as a statement or a modifier, is the opposite of `if`: it executes code only if an associated expression evaluates to `false` or `nil`.\n",
    "\n",
    "Ruby's `unless` construct begins with `unless` and ends with `end`. The body is the text between the two."
   ]
  },
  {
   "cell_type": "code",
   "execution_count": 3,
   "metadata": {},
   "outputs": [
    {
     "name": "stdout",
     "output_type": "stream",
     "text": [
      "You are not Cristina\n"
     ]
    }
   ],
   "source": [
    "name = 'Cris'\n",
    "unless name == 'Cristina'\n",
    "    puts 'You are not Cristina'\n",
    "end"
   ]
  },
  {
   "cell_type": "markdown",
   "metadata": {},
   "source": [
    "In the above example, the body is executed unless `name` is `Cristina`.\n",
    "\n",
    "Loops like the `while` loop are availale."
   ]
  },
  {
   "cell_type": "code",
   "execution_count": 4,
   "metadata": {},
   "outputs": [
    {
     "name": "stdout",
     "output_type": "stream",
     "text": [
      "0\n",
      "1\n",
      "2\n",
      "3\n",
      "4\n",
      "5\n",
      "6\n",
      "7\n",
      "8\n",
      "9\n"
     ]
    }
   ],
   "source": [
    "var = 0\n",
    "while var < 10\n",
    "    puts var\n",
    "    var += 1\n",
    "end"
   ]
  },
  {
   "cell_type": "markdown",
   "metadata": {},
   "source": [
    "## Conditional ?:\n",
    "\n",
    "As a concise alternative to simple `if/else` statements we can use the conditional or ternary `?:` operator. It is the only ternary operator (three operands) in Ruby: It has the following basic structure:\n",
    "\n",
    "```ruby\n",
    "(condition) ? (result if condition is true) : (result if condition is false)\n",
    "```\n",
    "\n",
    "The first operand appears before the question mark. The second operand appears between the question mark and the colon. And the third operand appears after the colon. The question mark must apper on the same line as the first argument and the colon must appear on the same line as the second argument. The `?:` operator always evaluates its first operand. If the first operand is anything other than `false` or `nil`, the value of the expression is the value of the second operand. Otherwise, if the first operand is `false` or `nil`, then the value of the expression is the value of the third operand. The `?:` operator acts like a compact `if/then/else` statement."
   ]
  },
  {
   "cell_type": "code",
   "execution_count": 5,
   "metadata": {},
   "outputs": [
    {
     "name": "stdout",
     "output_type": "stream",
     "text": [
      "teenager\n"
     ]
    }
   ],
   "source": [
    "age = 15\n",
    "# We talk about the Range class later on\n",
    "puts (13...19).include?(age) ? 'teenager' : 'not a teenager'"
   ]
  },
  {
   "cell_type": "markdown",
   "metadata": {},
   "source": [
    "The ternary operator also can be useful for conditional assignments:"
   ]
  },
  {
   "cell_type": "code",
   "execution_count": 6,
   "metadata": {},
   "outputs": [
    {
     "name": "stdout",
     "output_type": "stream",
     "text": [
      "not a teenager\n"
     ]
    }
   ],
   "source": [
    "age = 23\n",
    "person = (13...19).include?(age) ? 'teenager' : 'not a teenager'\n",
    "puts person"
   ]
  },
  {
   "cell_type": "markdown",
   "metadata": {},
   "source": [
    "## Statement Modifiers\n",
    "\n",
    "Ruby statement modifiers are a useful shortcut if the body of an `if` or `unless` statement is just a single expression.\n",
    "\n",
    "Simply write the expression, followed by `if` or `unless` and the condition. For example, here's a simple `if` statement."
   ]
  },
  {
   "cell_type": "code",
   "execution_count": 7,
   "metadata": {},
   "outputs": [
    {
     "name": "stdout",
     "output_type": "stream",
     "text": [
      "Enrollments will now Stop\n"
     ]
    }
   ],
   "source": [
    "participants = 3000\n",
    "puts 'Enrollments will now Stop' if participants > 2500"
   ]
  },
  {
   "cell_type": "markdown",
   "metadata": {},
   "source": [
    "## Case Expressions\n",
    "\n",
    "This form is fairly close to a series of `if` statements: it lets you list a series of conditions and execute a statement corresponding to the first one that's true.\n",
    "\n",
    "For example, leap years must be devisible by 400, or divisible by 4 and not by 100. Also, remember that `case` returns the value of the last expression executed."
   ]
  },
  {
   "cell_type": "code",
   "execution_count": 8,
   "metadata": {},
   "outputs": [
    {
     "name": "stdout",
     "output_type": "stream",
     "text": [
      "true\n"
     ]
    }
   ],
   "source": [
    "year = 2000\n",
    "leap = case\n",
    "        when year % 400 == 0 then true\n",
    "        when year % 100 == 0 then false\n",
    "        else year % 4   == 0\n",
    "        end\n",
    "puts leap"
   ]
  },
  {
   "cell_type": "markdown",
   "metadata": {},
   "source": [
    "## `nil` is an Object\n",
    "\n",
    "In Ruby, `nil` is an actual object:\n",
    "\n",
    "  - You can call methods on `nil`, just like any other object.\n",
    "  - You can add methods to `nil`, just like any other object.\n",
    "\n",
    "In Ruby, `nil` and `false` evaluate to false, everything else (including `true`, `0`) means true."
   ]
  },
  {
   "cell_type": "markdown",
   "metadata": {},
   "source": [
    "## Difference between `false` and `nil`\n",
    "\n",
    "`nil` and `false` are not the same things. Both have a false value and also remember that everything in Ruby is an object."
   ]
  },
  {
   "cell_type": "code",
   "execution_count": 9,
   "metadata": {},
   "outputs": [
    {
     "name": "stdout",
     "output_type": "stream",
     "text": [
      "FalseClass\n",
      "0\n",
      "NilClass\n",
      "8\n"
     ]
    }
   ],
   "source": [
    "puts false.class\n",
    "puts false.object_id\n",
    "\n",
    "puts nil.class\n",
    "puts nil.object_id"
   ]
  }
 ],
 "metadata": {
  "kernelspec": {
   "display_name": "Ruby 3.0.0",
   "language": "ruby",
   "name": "ruby"
  },
  "language_info": {
   "file_extension": ".rb",
   "mimetype": "application/x-ruby",
   "name": "ruby",
   "version": "3.0.0"
  }
 },
 "nbformat": 4,
 "nbformat_minor": 2
}
