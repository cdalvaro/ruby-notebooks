{
 "cells": [
  {
   "cell_type": "markdown",
   "id": "vanilla-detection",
   "metadata": {},
   "source": [
    "# Hashes in Ruby\n",
    "\n",
    "_Hashes_ (sometimes known as associative arrays, maps, or dictionaries) are similar to arrays in that they are indexed collection of object references. However, while you index arrays with integers, you can index a hash with objects of any type: strings, regular expressions, and so on.\n",
    "\n",
    "When you store a value in a hash, you actually supply two objects - the index (normally called the _key_) and the _value_. You can subsequently retrieve the value by indexing the hash with the same key.\n",
    "\n",
    "The values in a hash can be objects of any type."
   ]
  },
  {
   "cell_type": "code",
   "execution_count": 1,
   "id": "younger-passport",
   "metadata": {},
   "outputs": [
    {
     "name": "stdout",
     "output_type": "stream",
     "text": [
      "4\n",
      "canine\n",
      "{\"dog\"=>\"canine\", \"cat\"=>\"feline\", \"donkey\"=>\"asinine\", 12=>\"dodecine\"}\n",
      "dodecine\n"
     ]
    }
   ],
   "source": [
    "h = { 'dog' => 'canine', 'cat' => 'feline', 'donkey' => 'asinine', 12 => 'dodecine' }\n",
    "puts h.length\n",
    "puts h['dog']\n",
    "puts h\n",
    "puts h[12]"
   ]
  },
  {
   "cell_type": "markdown",
   "id": "initial-indian",
   "metadata": {},
   "source": [
    "Compared with arrays, hashes have one significant advantage: they can use any object as an index.\n",
    "\n",
    "Hashes have a default value. This value is returned when an attempt is made to access keys that do not exist in the hash. By default this value is `nil`.\n",
    "\n",
    "The `Hash` class has many methods and you can refer them [here](https://ruby-doc.org/core-3.0.0/Hash.html)."
   ]
  },
  {
   "cell_type": "markdown",
   "id": "structured-income",
   "metadata": {},
   "source": [
    "## Using Symbols as Hash keys\n",
    "\n",
    "Whenever you would otherwise use a quoted string, use a symbol instead."
   ]
  },
  {
   "cell_type": "code",
   "execution_count": 2,
   "id": "sensitive-surgery",
   "metadata": {},
   "outputs": [
    {
     "name": "stdout",
     "output_type": "stream",
     "text": [
      "cdalvaro\n"
     ]
    }
   ],
   "source": [
    "people = Hash.new\n",
    "people[:nickname] = 'cdalvaro'\n",
    "people[:language] = 'Spanish'\n",
    "people[:lastname] = 'Álvaro'\n",
    "\n",
    "puts people[:nickname]"
   ]
  },
  {
   "cell_type": "code",
   "execution_count": 3,
   "id": "informed-oxygen",
   "metadata": {},
   "outputs": [
    {
     "name": "stdout",
     "output_type": "stream",
     "text": [
      "{:nickname=>\"cdalvaro\", :language=>\"Spanish\", :lastname=>\"Álvaro\"}\n"
     ]
    }
   ],
   "source": [
    "h = { :nickname => 'cdalvaro', :language => 'Spanish', :lastname => 'Álvaro' }\n",
    "puts h"
   ]
  },
  {
   "cell_type": "markdown",
   "id": "regional-syndicate",
   "metadata": {},
   "source": [
    "Another way (using `name:` value pairs to create a hash if the keys are symbols) of doing the same thing is as shown before:"
   ]
  },
  {
   "cell_type": "code",
   "execution_count": 4,
   "id": "pediatric-daisy",
   "metadata": {},
   "outputs": [
    {
     "name": "stdout",
     "output_type": "stream",
     "text": [
      "{:nickname=>\"cdalvaro\", :language=>\"Spanish\", :lastname=>\"Álvaro\"}\n"
     ]
    }
   ],
   "source": [
    "h = { nickname: 'cdalvaro', language: 'Spanish', lastname: 'Álvaro' }\n",
    "puts h"
   ]
  },
  {
   "cell_type": "markdown",
   "id": "analyzed-leader",
   "metadata": {},
   "source": [
    "An exception to the shorter `{symbol: value}` syntax is when you would like to use a numeric key:"
   ]
  },
  {
   "cell_type": "code",
   "execution_count": 5,
   "id": "educational-baghdad",
   "metadata": {},
   "outputs": [
    {
     "data": {
      "text/plain": [
       "{1=>\"one\"}"
      ]
     },
     "execution_count": 5,
     "metadata": {},
     "output_type": "execute_result"
    }
   ],
   "source": [
    "# hash = { 1: 'one' } # will not work\n",
    "hash = { 1 => 'one' }"
   ]
  }
 ],
 "metadata": {
  "kernelspec": {
   "display_name": "Ruby 3.0.0",
   "language": "ruby",
   "name": "ruby"
  },
  "language_info": {
   "file_extension": ".rb",
   "mimetype": "application/x-ruby",
   "name": "ruby",
   "version": "3.0.1"
  }
 },
 "nbformat": 4,
 "nbformat_minor": 5
}
