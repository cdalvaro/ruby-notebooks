{
 "cells": [
  {
   "cell_type": "markdown",
   "id": "indian-complaint",
   "metadata": {},
   "source": [
    "# Inheritance in Ruby\n",
    "\n",
    "Inheritance is a relation between two classes. We know that all cats are mammals, and all mammals are animals. The benefit of inheritance is that classes lower down the hierarchy get the features of those higher up, but can also add specific features of their own. If all mammals breathe, then all cats breathe.\n",
    "\n",
    "_In Ruby, a class can only inherit from a single other class_.\n",
    "\n",
    "Some other languages support multiple inheritance, a feature that allows classes to inherit features from multipple classes, but Ruby _doesn't support_ this."
   ]
  },
  {
   "cell_type": "code",
   "execution_count": 1,
   "id": "impressed-keeping",
   "metadata": {},
   "outputs": [
    {
     "name": "stdout",
     "output_type": "stream",
     "text": [
      "inhale and exhale\n",
      "Meow\n"
     ]
    }
   ],
   "source": [
    "class Mammal\n",
    "  def breathe\n",
    "    puts \"inhale and exhale\"\n",
    "  end\n",
    "end\n",
    "\n",
    "class Cat < Mammal\n",
    "  def speak\n",
    "    puts \"Meow\"\n",
    "  end\n",
    "end\n",
    "\n",
    "rani = Cat.new\n",
    "rani.breathe\n",
    "rani.speak"
   ]
  },
  {
   "cell_type": "markdown",
   "id": "revised-wedding",
   "metadata": {},
   "source": [
    "Though we didn't specify how a `Cat` should breathe, every cat will inherit that behaviour from the `Mammal` class since `Cat` was defined as a subclass of `Mammal`. (In OO terminology, the smaller class is a subclass and the larger class is a super-class. The subclass is sometimes also known as a derived or child class and the super-class as base or parent class). Hence from a programmer's standpoint, cats get the ability to breathe for free; after we add a speak method, our cats can both breathe and speak.\n",
    "\n",
    "There will be situations where certain properties of the super-class should not be inherited by a particular subclass. Though birds generally know how to fly, penguins are a flightless subclass of birds."
   ]
  },
  {
   "cell_type": "code",
   "execution_count": 2,
   "id": "horizontal-advice",
   "metadata": {},
   "outputs": [
    {
     "name": "stdout",
     "output_type": "stream",
     "text": [
      "I am cleaning my feathers\n",
      "Sorry. I'd rather swim.\n"
     ]
    }
   ],
   "source": [
    "class Bird\n",
    "  def preen\n",
    "    puts \"I am cleaning my feathers\"\n",
    "  end\n",
    "  def fly\n",
    "    puts \"I am flying\"\n",
    "  end\n",
    "end\n",
    "\n",
    "class Penguin < Bird\n",
    "  def fly\n",
    "    puts \"Sorry. I'd rather swim.\"\n",
    "  end\n",
    "end\n",
    "\n",
    "p = Penguin.new\n",
    "p.preen\n",
    "p.fly"
   ]
  },
  {
   "cell_type": "markdown",
   "id": "based-clerk",
   "metadata": {},
   "source": [
    "Rather than exhaustively define every characteristic of every new class, we need only to append or to redefine the differences between each subclass and its super-class. This use of inheritance is sometimes called differential programming. It is one of the benefits of object-oriented programming.\n",
    "\n",
    "The above examples are taken from the online [Ruby User's Guide](http://www.rubyist.net/%7Eslagell/ruby/inheritance.html).\n",
    "\n",
    "Thus, **Inheritance** allows you to create a class that is a refinement or specialization of another class. Inheritance is indicated with `<`."
   ]
  },
  {
   "cell_type": "code",
   "execution_count": 3,
   "id": "unlimited-health",
   "metadata": {},
   "outputs": [
    {
     "name": "stdout",
     "output_type": "stream",
     "text": [
      "In S class\n",
      "GF method call\n"
     ]
    }
   ],
   "source": [
    "class GF\n",
    "  def initialize\n",
    "    puts 'In GF class'\n",
    "  end\n",
    "  def gfmethod\n",
    "    puts 'GF method call'\n",
    "  end\n",
    "end\n",
    "\n",
    "class F < GF\n",
    "  def initialize\n",
    "    puts 'In F class'\n",
    "  end\n",
    "end\n",
    "\n",
    "class S < F\n",
    "  def initialize\n",
    "    puts 'In S class'\n",
    "  end\n",
    "end\n",
    "\n",
    "son = S.new\n",
    "son.gfmethod"
   ]
  },
  {
   "cell_type": "markdown",
   "id": "exceptional-rachel",
   "metadata": {},
   "source": [
    "_A class can only inherit from one class at a time_ (i.e. class can inherit from a class that inherits from another class which inherits from another class, but a single class can not inherit from many classes at once).\n",
    "\n",
    "> There are many classes and modules (more on this later) built into the standard Ruby language. They are available to every Ruby program automatically; no **require** is required. Some built-in classes are `Array`, `Bignum`, `Class`, `Dir`, `Exception`, `File`, `Fixnum`, `Float`, `Integer`, `IO`, `Module`, `Numeric`, `Object`, `Range`, `String`, `Thread`, `Time`. Some built-in modules are `Comparable`, `Enumerable`, `GC`, `Kernel`, `Math`.\n",
    "> \n",
    "> The `BasicObject` class is the parent class of all classes in Ruby. Its methods are therefore available to all objects unless explicitly overriden. Prior to Ruby 1.9, `Object` class was the root of the class hierarchy. The new class `BasicObject` serves that purpose, and `Object` is a subclass of `BasicObject`. `BasicObject` is a very simple class, with almost no methods of its own. When you create a class in Ruby, you extend `Object` unless you explicitly specify the super-class, and most programmers will never need to use or extend `BasicObject`.\n",
    ">\n",
    "> In Ruby, `initialize` is an ordinary method and is inherited like any other.\n",
    "\n",
    "> **IN RAILS**: Inheritance is one of the key organizational techniques for Rails program design and the design of the Rails framework."
   ]
  },
  {
   "cell_type": "markdown",
   "id": "choice-swiss",
   "metadata": {},
   "source": [
    "## Inheritance and Instance Variales\n",
    "\n",
    "Consider the code:"
   ]
  },
  {
   "cell_type": "code",
   "execution_count": 4,
   "id": "colored-brisbane",
   "metadata": {},
   "outputs": [
    {
     "name": "stdout",
     "output_type": "stream",
     "text": [
      "(Labrador, Benzy)\n"
     ]
    }
   ],
   "source": [
    "class Dog\n",
    "  def initialize(breed)\n",
    "    @breed = breed\n",
    "  end\n",
    "end\n",
    "\n",
    "class Lab < Dog\n",
    "  def initialize(breed, name)\n",
    "    super(breed)\n",
    "    @name = name\n",
    "  end\n",
    "  \n",
    "  def to_s\n",
    "    \"(#{@breed}, #{@name})\"\n",
    "  end\n",
    "end\n",
    "\n",
    "puts Lab.new('Labrador', 'Benzy').to_s"
   ]
  },
  {
   "cell_type": "markdown",
   "id": "abroad-forestry",
   "metadata": {},
   "source": [
    "When you invoke `super` with arguments, Ruby sends a message to the parent of the current object, asking it to invoke a method of the same name as the method invoking `super`. `super` sends exactly those arguments.\n",
    "\n",
    "The `to_s` method in class `Lab` references `@breed` variable from the super-class `Dog`. This code works as you probably expect it to:\n",
    "\n",
    "```ruby\n",
    "puts Lab.new('Labrador', 'Benzy').to_s ==> (Labrador, Benzy)\n",
    "```\n",
    "\n",
    "Because this code behaves as expected, you may be tempted to say that these variables are inherited. _That is not how Ruby works_.\n",
    "\n",
    "All Ruby objects have a set of inheritance variables. These are **not** defined by the object's class - they are simply created when a value is assgined to them. Because _instance variables are not defined by a class, they are unrelated to subclassing and the inheritance mechanism_.\n",
    "\n",
    "In the above code, `Lab` defines an `initialize` method that chains to the `initialize` method of its super-class. The chained method assigns values to the variable `@breed`, which makes those variables come into existance for a particular instance of `Lab`.\n",
    "\n",
    "The reason that they sometimes appear to be inherited is that instance variables are created by the methods that first assign values to them, and those _methods_ are often inherited or chained.\n",
    "\n",
    "Since instance variables have nothing to do with inheritance, it follows that an instance variable used by a subclass cannot \"shadow\" an instance variable in the super-class. If a subclass uses an instance variable with the same name as a variable used by one of its ancestors, it will overwrite the value of its ancestor's variable."
   ]
  }
 ],
 "metadata": {
  "kernelspec": {
   "display_name": "Ruby 3.0.0",
   "language": "ruby",
   "name": "ruby"
  },
  "language_info": {
   "file_extension": ".rb",
   "mimetype": "application/x-ruby",
   "name": "ruby",
   "version": "3.0.1"
  }
 },
 "nbformat": 4,
 "nbformat_minor": 5
}
