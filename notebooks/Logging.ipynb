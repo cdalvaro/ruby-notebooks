{
 "cells": [
  {
   "cell_type": "markdown",
   "id": "prerequisite-temperature",
   "metadata": {},
   "source": [
    "# Logging in Ruby\n",
    "\n",
    "The [Logger](http://ruby-doc.org/stdlib-3.0.0/libdoc/logger/rdoc/Logger.html) class in the Ruby standard library, helps write log messages to a file or stream. It supports time- or size-based rolling of log files. Messages can be assigned severities, and only those messages at or above the logger's current reporting level will be logged.\n",
    "\n",
    "When you write code, you simply assume that all the messages will be logged. At runtime, you can get a more or less verbose log by changing the log level. A production application usually has a log level of `Logger::INFO` or `Logger::WARN`. From least to most severe, the instance methods are `Logger.debug`, `Logger.info`, `Logger.warn`, `Logger.error` and `Logger.fatal`.\n",
    "\n",
    "The `DEBUG` log level is useful for step-by-step diagnostics of a complex task. The `ERROR` level is often uses when handling exceptions: if the program can't solve a problem, it logs the exception rather than crash and expects a human administrator to deal with it. The `FATAL` level should only be used when the program cannot recover from a problem, and is about to crash or exit.\n",
    "\n",
    "If your log is being stored in a file, you can have `Logger` rotate or replace the log file when it gets too big, or once a certain amount of time has elapsed:"
   ]
  },
  {
   "cell_type": "code",
   "execution_count": 1,
   "id": "qualified-migration",
   "metadata": {},
   "outputs": [
    {
     "data": {
      "text/plain": [
       "#<Logger:0x00007fcf4f8334b8 @level=0, @progname=nil, @default_formatter=#<Logger::Formatter:0x00007fcf4f833490 @datetime_format=nil>, @formatter=nil, @logdev=#<Logger::LogDevice:0x00007fcf4f833440 @shift_period_suffix=\"%Y%m%d\", @shift_size=104857600, @shift_age=0, @filename=\"application.log\", @dev=#<File:application.log>, @binmode=false, @mon_data=#<Monitor:0x00007fcf4f833418>, @mon_data_owner_object_id=1440>>"
      ]
     },
     "execution_count": 1,
     "metadata": {},
     "output_type": "execute_result"
    }
   ],
   "source": [
    "require 'logger'\n",
    "\n",
    "# Keep data for the current month only\n",
    "logger = Logger.new('this_month.log', 'monthly')\n",
    "\n",
    "# Keep data for today and the past 20 days\n",
    "logger = Logger.new('application.log', 20, 'daily')\n",
    "\n",
    "# Start the log over whenever the log exceeds 100 megabytes in size\n",
    "logger = Logger.new('application.log', 0, 100 * 1024 * 1024)"
   ]
  },
  {
   "cell_type": "markdown",
   "id": "similar-hayes",
   "metadata": {},
   "source": [
    "The code below, uses the application's logger to print a debugging message, and (at a higher severity) as part of error-handling code."
   ]
  },
  {
   "cell_type": "code",
   "execution_count": 2,
   "id": "recent-andrews",
   "metadata": {},
   "outputs": [
    {
     "name": "stdout",
     "output_type": "stream",
     "text": [
      "# Logfile created on 2021-05-18 21:01:37 +0200 by logger.rb/v1.4.3\n",
      "\n",
      "D, [2021-05-18T21:01:37.586099 #15435] DEBUG -- : Numerator: 10, denominator: 2\n",
      "\n",
      "D, [2021-05-18T21:01:37.586176 #15435] DEBUG -- : Numerator: 10, denominator: 0\n",
      "\n",
      "E, [2021-05-18T21:01:37.586244 #15435] ERROR -- : Error in division!: divided by 0\n",
      "\n"
     ]
    }
   ],
   "source": [
    "require 'logger'\n",
    "\n",
    "LOG_FILE='log_file.log'\n",
    "$LOG = Logger.new(LOG_FILE, 'monthly')\n",
    "\n",
    "def divide(numerator, denominator)\n",
    "  $LOG.debug \"Numerator: #{numerator}, denominator: #{denominator}\"\n",
    "  begin\n",
    "    result = numerator / denominator\n",
    "  rescue StandardError => e\n",
    "    $LOG.error \"Error in division!: #{e}\"\n",
    "    result = nil\n",
    "  end\n",
    "  result\n",
    "end\n",
    "\n",
    "divide(10, 2)\n",
    "divide(10, 0)\n",
    "\n",
    "File.open(LOG_FILE, 'r') do |file|\n",
    "  while line = file.gets\n",
    "    puts line\n",
    "  end\n",
    "end"
   ]
  },
  {
   "cell_type": "markdown",
   "id": "sound-corruption",
   "metadata": {},
   "source": [
    "To change the log level, simply assign the appropriate constant to level:"
   ]
  },
  {
   "cell_type": "code",
   "execution_count": 3,
   "id": "hungry-pencil",
   "metadata": {},
   "outputs": [
    {
     "data": {
      "text/plain": [
       "3"
      ]
     },
     "execution_count": 3,
     "metadata": {},
     "output_type": "execute_result"
    }
   ],
   "source": [
    "$LOG.debug \"Changing logger level from #{$LOG.level} to #{Logger::ERROR}\"\n",
    "$LOG.level = Logger::ERROR"
   ]
  },
  {
   "cell_type": "markdown",
   "id": "structural-collar",
   "metadata": {},
   "source": [
    "Now our logger will ignore all log messages except thos with severity `ERROR` or `FATAL`."
   ]
  },
  {
   "cell_type": "code",
   "execution_count": 4,
   "id": "central-stack",
   "metadata": {},
   "outputs": [
    {
     "name": "stdout",
     "output_type": "stream",
     "text": [
      "# Logfile created on 2021-05-18 21:01:37 +0200 by logger.rb/v1.4.3\n",
      "\n",
      "D, [2021-05-18T21:01:37.586099 #15435] DEBUG -- : Numerator: 10, denominator: 2\n",
      "\n",
      "D, [2021-05-18T21:01:37.586176 #15435] DEBUG -- : Numerator: 10, denominator: 0\n",
      "\n",
      "E, [2021-05-18T21:01:37.586244 #15435] ERROR -- : Error in division!: divided by 0\n",
      "\n",
      "D, [2021-05-18T21:01:37.588567 #15435] DEBUG -- : Changing logger level from 0 to 3\n",
      "\n",
      "E, [2021-05-18T21:01:37.594362 #15435] ERROR -- : Error in division!: divided by 0\n",
      "\n"
     ]
    }
   ],
   "source": [
    "divide(10, 2)\n",
    "divide(10, 0)\n",
    "\n",
    "File.open(LOG_FILE, 'r') do |file|\n",
    "  while line = file.gets\n",
    "    puts line\n",
    "  end\n",
    "end"
   ]
  }
 ],
 "metadata": {
  "kernelspec": {
   "display_name": "Ruby 3.0.0",
   "language": "ruby",
   "name": "ruby"
  },
  "language_info": {
   "file_extension": ".rb",
   "mimetype": "application/x-ruby",
   "name": "ruby",
   "version": "3.0.1"
  }
 },
 "nbformat": 4,
 "nbformat_minor": 5
}
