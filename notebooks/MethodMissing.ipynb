{
 "cells": [
  {
   "cell_type": "markdown",
   "id": "third-craps",
   "metadata": {},
   "source": [
    "# Ruby Method Missing\n",
    "\n",
    "When you send a message to an object, the object executes the first method it finds on its [method lookup path](http://phrogz.net/RubyLibs/RubyMethodLookupFlow.pdf) with the same name as the message. If it fails to find any such method, it raises a `NoMethodError` exception - unless you have provided the object with a method called `method_missing`.\n",
    "\n",
    "The `method_missing` method is passed the symbol of the non-existent method, an array of the arguments that were passed in the original call and any block passed to the original method.\n",
    "\n",
    "`method_missing` is in part a safety net: It gives you a way to interpret unanswerable messages and handle them gracefully."
   ]
  },
  {
   "cell_type": "code",
   "execution_count": 1,
   "id": "injured-lewis",
   "metadata": {},
   "outputs": [
    {
     "name": "stdout",
     "output_type": "stream",
     "text": [
      "There's no method called anything here -- please try again.\n"
     ]
    }
   ],
   "source": [
    "class Dummy\n",
    "  def method_missing(m, *args, &block)\n",
    "    puts \"There's no method called #{m} here -- please try again.\"\n",
    "  end\n",
    "end\n",
    "\n",
    "Dummy.new.anything"
   ]
  },
  {
   "cell_type": "markdown",
   "id": "bulgarian-speaker",
   "metadata": {},
   "source": [
    "_You are also responsible for maintaining the `method_missing` signature._ It's possible to write a hook that captures only a missing method's name while ignoring its arguments and associated block."
   ]
  }
 ],
 "metadata": {
  "kernelspec": {
   "display_name": "Ruby 3.0.0",
   "language": "ruby",
   "name": "ruby"
  },
  "language_info": {
   "file_extension": ".rb",
   "mimetype": "application/x-ruby",
   "name": "ruby",
   "version": "3.0.1"
  }
 },
 "nbformat": 4,
 "nbformat_minor": 5
}
