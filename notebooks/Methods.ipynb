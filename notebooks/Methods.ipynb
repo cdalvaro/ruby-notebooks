{
 "cells": [
  {
   "cell_type": "markdown",
   "metadata": {},
   "source": [
    "# Methods in Ruby\n",
    "\n",
    "## Table of Contents\n",
    "\n",
    "  - [Introduction](#Introduction)\n",
    "  - [Aliasing](#Aliasing)\n",
    "  - [Variadic Functions](#Variadic-Functions)\n",
    "  - [Bang (!) Methods](#Bang-(!)-Methods)\n",
    "  - [Methods Names Ending With ?](#Method-Names-Ending-With-?)"
   ]
  },
  {
   "cell_type": "markdown",
   "metadata": {},
   "source": [
    "## Introduction\n",
    "\n",
    "Let's look at writing one's own methods in Ruby. Observe that we use `def` and `end` to declare a method. Parameters are simply a list of local variable names in parentheses.\n",
    "\n",
    "> We do not declare the return type; a method returns the value of the last statement executed in the method.\n",
    ">\n",
    "> It is recommended that you leave a single blank line between each method definition.\n",
    ">\n",
    "> The parentheses around a method's arguments are optional; our convention is to use them when a method has arguments and omit them when it doesn't."
   ]
  },
  {
   "cell_type": "code",
   "execution_count": 1,
   "metadata": {},
   "outputs": [
    {
     "name": "stdout",
     "output_type": "stream",
     "text": [
      "Hello\n",
      "Hello satish\n",
      "Hello talim\n"
     ]
    }
   ],
   "source": [
    "=begin\n",
    "A method returns the value of the last line\n",
    "Methods that act as queries are often named with a trailing ?\n",
    "Methods that are \"ganderous\", or modify the receiver, might be named with a trailing ! (Bang methods)\n",
    "=end\n",
    "def hello\n",
    "  'Hello'\n",
    "end\n",
    "puts hello\n",
    "\n",
    "# Method with an argument - 1\n",
    "def hello1(name)\n",
    "  'Hello ' + name\n",
    "end\n",
    "puts(hello1('satish'))\n",
    "\n",
    "# Method with an argument - 2\n",
    "def hello2 name2\n",
    "  'Hello ' + name2\n",
    "end\n",
    "puts(hello2 'talim')"
   ]
  },
  {
   "cell_type": "markdown",
   "metadata": {},
   "source": [
    "Ruby lets you specify default values for a method's arguments-values that will be used if the caller doesn't pass them explicitly. You do this using the assignment operator."
   ]
  },
  {
   "cell_type": "code",
   "execution_count": 2,
   "metadata": {},
   "outputs": [
    {
     "name": "stdout",
     "output_type": "stream",
     "text": [
      "Dibya, Shashank, Shashank.\n",
      "ruby, Shashank, Shashank.\n"
     ]
    }
   ],
   "source": [
    "=begin\n",
    "Interpolation refers to the process of inserting the result of an\n",
    "expression into a string literal the interpolation operator #{...} gets calculated separately\n",
    "=end\n",
    "def mtd(arg1=\"Dibya\", arg2=\"Shashank\", arg3=\"Shashank\")\n",
    "  \"#{arg1}, #{arg2}, #{arg3}.\"\n",
    "end\n",
    "\n",
    "puts mtd  \n",
    "puts mtd(\"ruby\")  "
   ]
  },
  {
   "cell_type": "markdown",
   "metadata": {},
   "source": [
    "Please note that as of now, there is no way, to specify a value for the second parameter and use the default value of the first parameter.\n",
    "\n",
    "In the above cell the interpolation operator `#{...}` gets calculated separately and the results of the calculation are pasted automatically into the string. When you run these lines, you don't see the `#{...}` operator on your screen; instead, you see the results of calculating or evaluating what was inside that operator.\n",
    "\n",
    "**Note**: Interpolation refers to the process of inserting the result of an expression into a string literal. The way to interpolate within a string is to place the expression within `#{` and `}` symbols. An example demonstrates this:"
   ]
  },
  {
   "cell_type": "code",
   "execution_count": 3,
   "metadata": {},
   "outputs": [
    {
     "name": "stdout",
     "output_type": "stream",
     "text": [
      "100 * 5 = 500\n"
     ]
    }
   ],
   "source": [
    "puts \"100 * 5 = #{100 * 5}\""
   ]
  },
  {
   "cell_type": "markdown",
   "metadata": {},
   "source": [
    "The `#{100 * 5}` section interpolates the result of `100 * 5` into the string at that position, resulting in the output (`500`) as shown."
   ]
  },
  {
   "cell_type": "markdown",
   "metadata": {},
   "source": [
    "## Aliasing\n",
    "\n",
    "Aliasing creates a new name that refers to an existing method. When a method is aliased, the new name refers to a copy of the original method's body. If the method is subsequently redefined, the aliased name will still invoke the original implementation."
   ]
  },
  {
   "cell_type": "code",
   "execution_count": 4,
   "metadata": {},
   "outputs": [
    {
     "name": "stdout",
     "output_type": "stream",
     "text": [
      "old improved method\n",
      "old method\n"
     ]
    }
   ],
   "source": [
    "# alias new_name old_name  \n",
    "# When a method is aliased, the new name refers  \n",
    "# to a copy of the original method's body  \n",
    "  \n",
    "def oldmtd\n",
    "  \"old method\"\n",
    "end\n",
    "\n",
    "alias newmtd oldmtd\n",
    "\n",
    "def oldmtd\n",
    "  \"old improved method\"\n",
    "end\n",
    "\n",
    "puts oldmtd  \n",
    "puts newmtd"
   ]
  },
  {
   "cell_type": "markdown",
   "metadata": {},
   "source": [
    "alias creates a new name that refers to an existing method, operator, global variable, or regular expression backreference (`$&`, <code>$&#96;</code>, `$'`, and `$+`). Local variables, instance variables, class variables, and constants may not be aliased. The parameters to alias may be names or symbols."
   ]
  },
  {
   "cell_type": "markdown",
   "metadata": {},
   "source": [
    "## Variadic Functions"
   ]
  },
  {
   "cell_type": "code",
   "execution_count": 5,
   "metadata": {},
   "outputs": [
    {
     "name": "stdout",
     "output_type": "stream",
     "text": [
      "[\"hello\", \"world\"]\n",
      "[]\n"
     ]
    }
   ],
   "source": [
    "def foo(*my_string)\n",
    "  my_string.inspect\n",
    "end\n",
    "\n",
    "puts foo('hello', 'world')\n",
    "puts foo"
   ]
  },
  {
   "cell_type": "markdown",
   "metadata": {},
   "source": [
    "The asterisk (called the _splat_ argument) is actually taking all arguments you send to the method and assigning them to an array named `my_string`. By making use of the asterisk, we're even able to pass in zero arguments.\n",
    "\n",
    "In Ruby, you can put the splat argument anywhere in a method's parameter list: `def opt_args(a, *x, b)`\n",
    "\n",
    "There's no limit to the number of parameters we can pass in Ruby.\n",
    "\n",
    "Like in C programming language, the sequence in which the parameters are put on the stack is Left to Right:"
   ]
  },
  {
   "cell_type": "code",
   "execution_count": 6,
   "metadata": {},
   "outputs": [
    {
     "name": "stdout",
     "output_type": "stream",
     "text": [
      "[99, 100]\n"
     ]
    }
   ],
   "source": [
    "def mtd(a=99, b=a+1)\n",
    "  [a, b]\n",
    "end\n",
    "puts mtd"
   ]
  },
  {
   "cell_type": "markdown",
   "metadata": {},
   "source": [
    "## Bang (!) Methods\n",
    "\n",
    "_\"In Ruby, the objects themselves are almost completely hidden from the programmer (excluding C extensions). Everything is a reference to an object\"_ - _Gary Wright_\n",
    "\n",
    "Ruby methods that modify an object in-place and end in an excalamation mark are known as bang methods. By convention, the bang labels a method as dangerous - specially, as the _dangerous_ equivalent of a method with the same name but without the bang.\n",
    "\n",
    "You'll find a number of pairs of methods, one with the bang and one without. Those without the bang perform an action and return a freshly minted object, reflecting the results of the action (capitalizing a string, sorting an array, and so on). The bang versios of the same methods perform the action, but they do so inplace: Instead of creating a new object, they transform the original object."
   ]
  },
  {
   "cell_type": "code",
   "execution_count": 7,
   "metadata": {},
   "outputs": [
    {
     "name": "stdout",
     "output_type": "stream",
     "text": [
      "hello\n",
      "HELLO\n",
      "hello\n",
      "hello\n"
     ]
    }
   ],
   "source": [
    "def downer(string)\n",
    "  string.downcase\n",
    "end\n",
    "a = 'HELLO'\n",
    "puts downer(a)\n",
    "puts a\n",
    "\n",
    "def downer(string)\n",
    "  string.downcase!\n",
    "end\n",
    "a = 'HELLO'\n",
    "puts downer(a)\n",
    "puts a"
   ]
  },
  {
   "cell_type": "markdown",
   "metadata": {},
   "source": [
    "## Method Names Ending With ?\n",
    "\n",
    "The question mark has no special meaning to the Ruby interpreter. However, by convention, any method whose name ends with `?` returns a valur that answers the question posed by the method invocation. The `empty?` method of an array, for example, returns `true` if the array has no elements. Mostly such methods returns one of the Boolean values `true` or `false`, but this is not required, as any value other than `false` or `nil` works like `true` when a Boolean value is required. The `Numeric` method `nonzero?`, for example, return `nil` if the number it is invoked on is zero, and just returns the number otherwise."
   ]
  }
 ],
 "metadata": {
  "kernelspec": {
   "display_name": "Ruby 3.0.0",
   "language": "ruby",
   "name": "ruby"
  },
  "language_info": {
   "file_extension": ".rb",
   "mimetype": "application/x-ruby",
   "name": "ruby",
   "version": "3.0.0"
  }
 },
 "nbformat": 4,
 "nbformat_minor": 2
}
