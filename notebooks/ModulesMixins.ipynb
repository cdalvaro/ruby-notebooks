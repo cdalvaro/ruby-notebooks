{
 "cells": [
  {
   "cell_type": "markdown",
   "id": "accomplished-italian",
   "metadata": {},
   "source": [
    "# Modules Mixins in Ruby\n",
    "\n",
    "Ruby Modules are similar to classes in that they hold a collection of methods, constants, and other module and class definitions. Modules are defined much like classes are, but the `module` keyword is used in place of the `class` keyword.\n",
    "\n",
    "_Unlike classes, you cannot create objects based on modules nor can you subclass them_; instad, you specify that you want the functionality of a particular module to be added to the functionality of a class, or of a specific object.\n",
    "\n",
    "Modules stand alone; there is no \"module hierarchy\" of inheritance. Modules is a good place to collect all your constants in a central location.\n",
    "\n",
    "Modules serve two purposes:\n",
    "\n",
    "* First they act as _namespace_, letting you define methods whose names will not clash with those defined elsewhere."
   ]
  },
  {
   "cell_type": "code",
   "execution_count": 1,
   "id": "toxic-twist",
   "metadata": {},
   "outputs": [
    {
     "data": {
      "text/plain": [
       ":sin"
      ]
     },
     "execution_count": 1,
     "metadata": {},
     "output_type": "execute_result"
    }
   ],
   "source": [
    "module Trig\n",
    "  PI = 3.1416\n",
    "  \n",
    "  def Trig.sin(x)\n",
    "    \"This is Trig.sin(#{x}) method\"\n",
    "  end\n",
    "  \n",
    "  def Trig.cos(x)\n",
    "    \"This is Trig.cos(#{x}) method\"\n",
    "  end\n",
    "end\n",
    "\n",
    "module Moral\n",
    "  VERY_BAD = 0\n",
    "  BAD = 1\n",
    "  \n",
    "  def Moral.sin(badness)\n",
    "    \"This is Moral.sin(#{badness}) method\"\n",
    "  end\n",
    "end"
   ]
  },
  {
   "cell_type": "code",
   "execution_count": 2,
   "id": "hollow-lodging",
   "metadata": {},
   "outputs": [
    {
     "name": "stdout",
     "output_type": "stream",
     "text": [
      "This is Trig.sin(0.7854) method\n",
      "This is Moral.sin(0) method\n"
     ]
    }
   ],
   "source": [
    "puts Trig.sin(Trig::PI/4)\n",
    "puts Moral.sin(Moral::VERY_BAD)"
   ]
  },
  {
   "cell_type": "markdown",
   "id": "exposed-leeds",
   "metadata": {},
   "source": [
    "* Second, they allow you to share functionality between classes - if a class mixes in a module, that module's instance methods become available as if they had been defined in the class."
   ]
  },
  {
   "cell_type": "code",
   "execution_count": 3,
   "id": "otherwise-consent",
   "metadata": {},
   "outputs": [
    {
     "data": {
      "text/plain": [
       "EightTrack"
      ]
     },
     "execution_count": 3,
     "metadata": {},
     "output_type": "execute_result"
    }
   ],
   "source": [
    "module D\n",
    "  def initialize(name)\n",
    "    @name = name\n",
    "  end\n",
    "  def to_s\n",
    "    @name\n",
    "  end\n",
    "end\n",
    "\n",
    "module Debug\n",
    "  include D\n",
    "  def who_am_i?\n",
    "    \"#{self.class.name} (\\##{self.object_id}) : #{self.to_s}\"\n",
    "  end\n",
    "end\n",
    "\n",
    "class Phonograph\n",
    "  # The include statement simply makes a reference to a named module.\n",
    "  # If that module is in a separate file, use require to drag the file\n",
    "  # in before using include\n",
    "  include Debug\n",
    "end\n",
    "\n",
    "class EightTrack\n",
    "  include Debug\n",
    "end"
   ]
  },
  {
   "cell_type": "code",
   "execution_count": 4,
   "id": "killing-weather",
   "metadata": {},
   "outputs": [
    {
     "name": "stdout",
     "output_type": "stream",
     "text": [
      "Phonograph (#1400) : West End Blues\n",
      "EightTrack (#1420) : Real Pillow\n"
     ]
    }
   ],
   "source": [
    "ph = Phonograph.new(\"West End Blues\")\n",
    "puts ph.who_am_i?\n",
    "\n",
    "et = EightTrack.new(\"Real Pillow\")\n",
    "puts et.who_am_i?"
   ]
  },
  {
   "cell_type": "markdown",
   "id": "passing-chorus",
   "metadata": {},
   "source": [
    "> Observe how we use `require` or `load`. `require` and `load` take strings as their arguments.\n",
    ">\n",
    "> `require 'motorcycle'` and `load 'motorcycle.rb'`\n",
    ">\n",
    "> `include` takes the name of a module, in the form of a constant, as in `include Stuff`.\n",
    ">\n",
    "> The `include` method accepts any number of `Module` objects to mix in:\n",
    ">\n",
    "> ```ruby\n",
    "> include Enumerable, Comparable\n",
    "> ```\n",
    ">\n",
    "> Although every class is a module, the `include` method does not allow a class to be included within another class."
   ]
  },
  {
   "cell_type": "code",
   "execution_count": 5,
   "id": "likely-domain",
   "metadata": {},
   "outputs": [
    {
     "name": "stdout",
     "output_type": "stream",
     "text": [
      "10\n",
      "30\n"
     ]
    },
    {
     "data": {
      "text/plain": [
       "#<Stuff::T:0x00007feca187d5d0>"
      ]
     },
     "execution_count": 5,
     "metadata": {},
     "output_type": "execute_result"
    }
   ],
   "source": [
    "module Stuff\n",
    "  C = 10\n",
    "  def Stuff.m(x)\n",
    "    C * x\n",
    "  end\n",
    "  \n",
    "  def p(x)\n",
    "    C + x\n",
    "  end\n",
    "  \n",
    "  class T\n",
    "    @t = 2\n",
    "  end\n",
    "end\n",
    "\n",
    "puts Stuff::C\n",
    "puts Stuff.m(3)\n",
    "x = Stuff::T.new"
   ]
  },
  {
   "cell_type": "code",
   "execution_count": 6,
   "id": "atlantic-metabolism",
   "metadata": {},
   "outputs": [
    {
     "name": "stdout",
     "output_type": "stream",
     "text": [
      "40\n",
      "15\n"
     ]
    }
   ],
   "source": [
    "class DD\n",
    "  include Stuff\n",
    "  puts Stuff.m(4)\n",
    "end\n",
    "\n",
    "d = DD.new\n",
    "puts d.p(5)"
   ]
  },
  {
   "cell_type": "markdown",
   "id": "special-circle",
   "metadata": {},
   "source": [
    "> Remember that you can mix in more than one module in a class. However, a class cannot inherit from more than one class. Class names tend to be nouns, while module names are often adjectives.\n",
    "\n",
    "> **IN RAILS**: The Rails source code makes heavy use of modules, in particular the technique of reopening the definition bodies of both classes and modules."
   ]
  }
 ],
 "metadata": {
  "kernelspec": {
   "display_name": "Ruby 3.0.0",
   "language": "ruby",
   "name": "ruby"
  },
  "language_info": {
   "file_extension": ".rb",
   "mimetype": "application/x-ruby",
   "name": "ruby",
   "version": "3.0.1"
  }
 },
 "nbformat": 4,
 "nbformat_minor": 5
}
