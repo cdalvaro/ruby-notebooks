{
 "metadata": {
  "language_info": {
   "codemirror_mode": {
    "name": "ipython",
    "version": 3
   },
   "file_extension": ".py",
   "mimetype": "text/x-python",
   "name": "python",
   "nbconvert_exporter": "python",
   "pygments_lexer": "ipython3",
   "version": 3
  },
  "orig_nbformat": 2,
  "kernelspec": {
   "name": "ruby",
   "display_name": "Ruby 3.0.0",
   "language": "ruby"
  }
 },
 "nbformat": 4,
 "nbformat_minor": 2,
 "cells": [
  {
   "source": [
    "# Names in Ruby\n",
    "\n",
    "**Ruby Names** are used to refer to constants, variables, methods, classes, and modules.\n",
    "\n",
    "_The first character of a name helps Ruby to distinguish its intended use_.\n",
    "\n",
    "Certain names, are reserved words and should not be used as variable, method, class, or module name. Lowercase letter means the characters \"a\" through \"z\". Uppercase letter means \"A\" through \"Z\", and digit means \"0\" through \"9\". A name is an uppercase letter, lowercase letter, or an underscore (\"\\_\"), followed by _**Name characters**_ (this is any combination of upper- and lowercase letters, underscore and digits)."
   ],
   "cell_type": "markdown",
   "metadata": {}
  },
  {
   "source": [
    "## Table of Contents\n",
    "\n",
    "- [Variables](#Variables)\n",
    "- [Constants](#Constants)\n",
    "- [Method Names](#Method-Names)"
   ],
   "cell_type": "markdown",
   "metadata": {}
  },
  {
   "source": [
    "## Variables\n",
    "\n",
    "Variables in Ruby can contain data of any type. You can use variables in your Ruby programs _without any declarations_. Variable name itself denotes its scope (local, global, instance, etc.).\n",
    "\n",
    "- A **local** variable (declared within an object) name consists of a lowercase letter (or an underscore) followed by name characters (`sunil`, `_z`, `hit_and_run`).\n",
    "- An **instance** variable (declared within an object always \"belongs to\" whatever object **`self`** refers to) name starts with an \"at\" sign (\"`@`\") followed by a name (`@sign`, `@_`, `@Counter`).\n",
    "- A **class** variable (declared within a class) name starts with two \"at\" signs (\"`@@`\") followed by a name (`@@sign`, `@@_`, `@@Counter`). A class variable is shared among all objects of a class. Only one copy of a particular class variable exists for a given class. Class variables used at the top level are defined in **Object** and behave like global variables. _Class variables are rarely used in Ruby programs_.\n",
    "- **Global** variables start with a dollar sign (\"`$`\") followed by name characters. A global variable name can be formed using \"`$-`\" followed by any single character (`$counter`, `$COUNTER`, `$-x`). Ruby defines a number of global variables that include other punctuation characters, such as `$_` and `$-K`."
   ],
   "cell_type": "markdown",
   "metadata": {}
  },
  {
   "source": [
    "## Constants\n",
    "\n",
    "A **constant** name starts with an uppercase letter followed by name characters. Class names and module names are constants, and follow the constant naming conventions.\n",
    "\n",
    "Examples: `module MyMath`, `PI = 3.1416`, `class MyPune`."
   ],
   "cell_type": "markdown",
   "metadata": {}
  },
  {
   "source": [
    "## Method Names\n",
    "\n",
    "**Method** names should begin with a lowercase letter (or an underscore). \"?\", \"!\" and \"=\" are the only weird characters allowed as method name suffixes (! or bang labels a method as dangerous-specifically, as the dangerous equivalent of a method with the same name but without the bang)."
   ],
   "cell_type": "markdown",
   "metadata": {}
  },
  {
   "source": [
    "> The Ruby convention is to use underscores to separate words in a multiword method or variable name.\n",
    ">\n",
    "> By convention, most constants are written in all uppercase with underscores to separate words, LIKE_THIS.\n",
    ">\n",
    "> Ruby class and module names are also constants, but they are conventionally written using initial capital letters and camel case, LikeThis.\n",
    ">\n",
    "> It's to be noted that any given variable can at different times hold references to objects of many different types. A Ruby constant is also a reference to an object. Constants are created when they are first assigned to (normally in a class or module definition; they should not be defined in a method). Ruby lets you alter the value of a constant, although this will generate a warning message.\n",
    ">\n",
    "> Also, variables in Ruby act as \"references\" to objects, which undergo automatic garbage collection."
   ],
   "cell_type": "markdown",
   "metadata": {}
  },
  {
   "cell_type": "code",
   "execution_count": 1,
   "metadata": {},
   "outputs": [
    {
     "output_type": "execute_result",
     "data": {
      "text/plain": [
       "11"
      ]
     },
     "metadata": {},
     "execution_count": 1
    }
   ],
   "source": [
    "x = 7           # Integer\n",
    "x = \"house\"     # String\n",
    "x = 7.5         # Real\n",
    "\n",
    "# In Ruby, everything you manipulate is an object\n",
    "'I love Ruby'.length"
   ]
  }
 ]
}