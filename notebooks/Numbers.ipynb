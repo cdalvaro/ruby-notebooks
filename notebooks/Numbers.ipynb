{
 "metadata": {
  "language_info": {
   "codemirror_mode": {
    "name": "ipython",
    "version": 3
   },
   "file_extension": ".py",
   "mimetype": "text/x-python",
   "name": "python",
   "nbconvert_exporter": "python",
   "pygments_lexer": "ipython3",
   "version": 3
  },
  "orig_nbformat": 2,
  "kernelspec": {
   "name": "ruby",
   "display_name": "Ruby 3.0.0",
   "language": "ruby"
  }
 },
 "nbformat": 4,
 "nbformat_minor": 2,
 "cells": [
  {
   "source": [
    "# Numbers in Ruby\n",
    "\n",
    "Let's play with Numbers. In Ruby, numbers without decimal points are called integers, and numbers with decimal points are usually called floating-point numbers or, more simply, floats (you must place at least one digit before the decimal point). An integer literal is simply a sequence of digits eg. `0`, `123`, `123456789`. Underscores may be inserted into integer literals (though not at the beginning or end), and this feature is sometimes used as a thousands separator eg. `1_000_000_000`. Underscore characters are ignored in the digit string."
   ],
   "cell_type": "markdown",
   "metadata": {}
  },
  {
   "cell_type": "code",
   "execution_count": 1,
   "metadata": {},
   "outputs": [
    {
     "output_type": "stream",
     "name": "stdout",
     "text": [
      "3\n",
      "6\n",
      "1\n",
      "-1\n",
      "0.5769230769230769\n"
     ]
    }
   ],
   "source": [
    "=begin\n",
    "  Ruby Numbers\n",
    "  Usual operators:\n",
    "    + addition\n",
    "    - subtraction\n",
    "    * multiplication\n",
    "    / division\n",
    "=end\n",
    "\n",
    "puts 1 + 2\n",
    "puts 2 * 3\n",
    "\n",
    "# Integer division\n",
    "# When you do arithmetic with integers, you'll get integer answers\n",
    "puts 3 / 2\n",
    "puts 10 - 11\n",
    "puts 1.5 / 2.6"
   ]
  },
  {
   "source": [
    "> Ruby integers are objects of class Fixnum or Bignum. The Fixnum and Bignum classes represent integers of differing sizes. Both classes descend from Integer (and therefore Numeric).\n",
    ">\n",
    "> The floating-point numbers are objects of class Float, corresponding to the native architecture's double data type.\n",
    ">\n",
    "> The Complex, BigDecimal, and Rational classes are not built-in to Ruby but are distributed with Ruby as part of the standard library. We shall be talking about classes in detail later."
   ],
   "cell_type": "markdown",
   "metadata": {}
  },
  {
   "source": [
    "## Table of Contents\n",
    "\n",
    "- [Operators and Precedence](#Operators-and-Precedence)\n",
    "- [Numeric Types](#Numeric-Types)"
   ],
   "cell_type": "markdown",
   "metadata": {}
  },
  {
   "source": [
    "## Operators and Precedence\n",
    "\n",
    "Let us look at Ruby's operators. They are arranged here in order from highest to lowest precedence.\n",
    "\n",
    "|**Method**|**Operator**|**Description**|\n",
    "|:--------:|:-----------|:--------------|\n",
    "|✔️|`[]` `[]=`|Element reference, element set|\n",
    "|✔️|`**`|Exponentiation|\n",
    "|✔️|`!` `~` `+` `-`|Not, complement, unary plus and minus (method names for the last two are `+@` and `-@`)|\n",
    "|✔️|`*` `/` `%`|Multiply, divide, and modulo|\n",
    "|✔️|`+` `-`|Plus and minus|\n",
    "|✔️|`>>` `<<`|Right and left shift (`<<` is also used as the append operator)|\n",
    "|✔️|`&`|\"And\" (bitwise for integers)|\n",
    "|✔️|`^` <code>&#124;</code>|Exclusive \"or\" and regular \"or\" (bitwise for integers)|\n",
    "|✔️|`<=` `<` `>` `>=`|Comparison operators|\n",
    "|✔️|`<=>` `==` `===` `!=` `=~` `!~`|Equality and pattern match operators|\n",
    "|  |`&&`|Logical \"and\"|\n",
    "|  |<code>&#124;&#124;</code>|Logical \"or\"|\n",
    "|  |`..` `...`|Range (inclusive and exclusive)|\n",
    "|  |`? :`|Ternary `if-then-else`|\n",
    "|  |`=` `%=` `/=` `-=` `+=` <code>&#124;=</code> `&=` `>>=` <br /> `<<=` `*=` `&&=` <code>&#124;&#124;=</code> `**=` `^=`|Assignment|\n",
    "|  |`not`|Logical negation|\n",
    "|  |`or` `and`|Logical composition|\n",
    "|  |`if` `unless` `while` `until`|Expression modifiers|\n",
    "|  |`begin/end`|Block expression|"
   ],
   "cell_type": "markdown",
   "metadata": {}
  },
  {
   "source": [
    "### Difference between `or` and `||` operator\n",
    "\n",
    "Both `or` and `||` return their first argument unless it is `false`, in which case they evaluate and return their second argument."
   ],
   "cell_type": "markdown",
   "metadata": {}
  },
  {
   "cell_type": "code",
   "execution_count": 2,
   "metadata": {},
   "outputs": [
    {
     "output_type": "stream",
     "name": "stdout",
     "text": [
      "2008\n",
      "2008\n",
      "ruby\n"
     ]
    }
   ],
   "source": [
    "puts nil || 2008\n",
    "puts false || 2008\n",
    "puts \"ruby\" || 2008"
   ]
  },
  {
   "source": [
    "The only difference between `or` and `||` is their precedence. `||` has a higher precedence than `or`.\n",
    "\n",
    "A common idiom is to use `||` to assign a value to a variable only if that variable isn't already set."
   ],
   "cell_type": "markdown",
   "metadata": {}
  },
  {
   "cell_type": "code",
   "execution_count": 3,
   "metadata": {},
   "outputs": [
    {
     "output_type": "execute_result",
     "data": {
      "text/plain": [
       "\"default value\""
      ]
     },
     "metadata": {},
     "execution_count": 3
    }
   ],
   "source": [
    "@variable = @variable || \"default value\"\n",
    "\n",
    "# or more idiomatically\n",
    "@variable ||= \"default value\""
   ]
  },
  {
   "source": [
    "One reason fo these alternate versions of the Boolean operators is the fact that hey have lower precedence than the assignment operator. This means that you can write a Boolean expression such as the following that assigns values to variables until it encounters a false value:"
   ],
   "cell_type": "markdown",
   "metadata": {}
  },
  {
   "cell_type": "code",
   "execution_count": 4,
   "metadata": {},
   "outputs": [
    {
     "output_type": "stream",
     "name": "stdout",
     "text": [
      "[true, \"two\", 1]\n"
     ]
    },
    {
     "output_type": "execute_result",
     "data": {
      "text/plain": [
       "[true, \"two\", 1]"
      ]
     },
     "metadata": {},
     "execution_count": 4
    }
   ],
   "source": [
    "def g *args # The splat here says accept 1 or more arguments, in the form of an Array\n",
    "  args      # This returns an array\n",
    "end\n",
    "\n",
    "def f arg\n",
    "  arg\n",
    "end\n",
    "\n",
    "x, y, z = [true, 'two', 1]  # Parallel assignment lets us do this\n",
    "\n",
    "# The expression simply would not work as intended, if written with && instead of and.\n",
    "if a = f(x) and b = f(y) and c = f(z) then\n",
    "  d = g(a, b, c)\n",
    "end\n",
    "\n",
    "p d # Using p to puts and inspect d"
   ]
  },
  {
   "source": [
    "## Numeric Types\n",
    "\n",
    "The basic numeric types in Ruby are `Fixnum`, `Integer`, and `Float. All of them are subclasses of `Numeric`.\n",
    "\n",
    "`Float` objects represent real numbers using the native architecture's double-precision floating point representation.\n",
    "\n",
    "`DIG` is a class constant that gives precision of `Float` in decimal digits. `MAX` is another class constant that gives the largest `Float`."
   ],
   "cell_type": "markdown",
   "metadata": {}
  },
  {
   "cell_type": "code",
   "execution_count": 5,
   "metadata": {},
   "outputs": [
    {
     "output_type": "stream",
     "name": "stdout",
     "text": [
      "15\n",
      "1.7976931348623157e+308\n"
     ]
    }
   ],
   "source": [
    "puts Float::DIG\n",
    "puts Float::MAX"
   ]
  },
  {
   "source": [
    "Let us look at Peter Cooper's example in his _Beginning Ruby book_"
   ],
   "cell_type": "markdown",
   "metadata": {}
  },
  {
   "cell_type": "code",
   "execution_count": 6,
   "metadata": {},
   "outputs": [
    {
     "output_type": "stream",
     "name": "stdout",
     "text": [
      "On square 1 are 1 grain(s)\n",
      "On square 2 are 2 grain(s)\n",
      "On square 3 are 4 grain(s)\n",
      "On square 4 are 8 grain(s)\n",
      "On square 5 are 16 grain(s)\n",
      "On square 6 are 32 grain(s)\n",
      "On square 7 are 64 grain(s)\n",
      "On square 8 are 128 grain(s)\n",
      "On square 9 are 256 grain(s)\n",
      "On square 10 are 512 grain(s)\n",
      "On square 11 are 1024 grain(s)\n",
      "On square 12 are 2048 grain(s)\n",
      "On square 13 are 4096 grain(s)\n",
      "On square 14 are 8192 grain(s)\n",
      "On square 15 are 16384 grain(s)\n",
      "On square 16 are 32768 grain(s)\n",
      "On square 17 are 65536 grain(s)\n",
      "On square 18 are 131072 grain(s)\n",
      "On square 19 are 262144 grain(s)\n",
      "On square 20 are 524288 grain(s)\n",
      "On square 21 are 1048576 grain(s)\n",
      "On square 22 are 2097152 grain(s)\n",
      "On square 23 are 4194304 grain(s)\n",
      "On square 24 are 8388608 grain(s)\n",
      "On square 25 are 16777216 grain(s)\n",
      "On square 26 are 33554432 grain(s)\n",
      "On square 27 are 67108864 grain(s)\n",
      "On square 28 are 134217728 grain(s)\n",
      "On square 29 are 268435456 grain(s)\n",
      "On square 30 are 536870912 grain(s)\n",
      "On square 31 are 1073741824 grain(s)\n",
      "On square 32 are 2147483648 grain(s)\n",
      "On square 33 are 4294967296 grain(s)\n",
      "On square 34 are 8589934592 grain(s)\n",
      "On square 35 are 17179869184 grain(s)\n",
      "On square 36 are 34359738368 grain(s)\n",
      "On square 37 are 68719476736 grain(s)\n",
      "On square 38 are 137438953472 grain(s)\n",
      "On square 39 are 274877906944 grain(s)\n",
      "On square 40 are 549755813888 grain(s)\n",
      "On square 41 are 1099511627776 grain(s)\n",
      "On square 42 are 2199023255552 grain(s)\n",
      "On square 43 are 4398046511104 grain(s)\n",
      "On square 44 are 8796093022208 grain(s)\n",
      "On square 45 are 17592186044416 grain(s)\n",
      "On square 46 are 35184372088832 grain(s)\n",
      "On square 47 are 70368744177664 grain(s)\n",
      "On square 48 are 140737488355328 grain(s)\n",
      "On square 49 are 281474976710656 grain(s)\n",
      "On square 50 are 562949953421312 grain(s)\n",
      "On square 51 are 1125899906842624 grain(s)\n",
      "On square 52 are 2251799813685248 grain(s)\n",
      "On square 53 are 4503599627370496 grain(s)\n",
      "On square 54 are 9007199254740992 grain(s)\n",
      "On square 55 are 18014398509481984 grain(s)\n",
      "On square 56 are 36028797018963968 grain(s)\n",
      "On square 57 are 72057594037927936 grain(s)\n",
      "On square 58 are 144115188075855872 grain(s)\n",
      "On square 59 are 288230376151711744 grain(s)\n",
      "On square 60 are 576460752303423488 grain(s)\n",
      "On square 61 are 1152921504606846976 grain(s)\n",
      "On square 62 are 2305843009213693952 grain(s)\n",
      "On square 63 are 4611686018427387904 grain(s)\n",
      "On square 64 are 9223372036854775808 grain(s)\n"
     ]
    },
    {
     "output_type": "execute_result",
     "data": {
      "text/plain": [
       "64"
      ]
     },
     "metadata": {},
     "execution_count": 6
    }
   ],
   "source": [
    "rice_on_square = 1\n",
    "64.times do |square|\n",
    "  puts \"On square #{square + 1} are #{rice_on_square} grain(s)\"\n",
    "  rice_on_square *= 2\n",
    "end"
   ]
  },
  {
   "source": [
    "By square 64, you're up to placing many trillions of grains of rice on each square!\n",
    "\n",
    "It proves that Ruby is able to deal with extremely large numbers, and unlike many other programming languages, there are no inconvvenient limits. Ruby does this with different classes, one called `Fixnum` (default) that represents easily managed smaller numbers, and another, aptly called `Bignum`, that represents \"big\" numbers Ruby needs to manage internally. Ruby will handle Bignums and Fixnums for you, and you can perform arithmetic and other operations without any problems. Results might vary depending on your system's architecture, but as these changes are handled entirely by Ruby, there's no need to worry."
   ],
   "cell_type": "markdown",
   "metadata": {}
  }
 ]
}