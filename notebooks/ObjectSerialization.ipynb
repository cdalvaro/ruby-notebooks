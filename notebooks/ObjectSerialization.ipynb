{
 "cells": [
  {
   "cell_type": "markdown",
   "id": "downtown-allah",
   "metadata": {},
   "source": [
    "# Object Serialization in Ruby\n",
    "\n",
    "Java features the ability to _serializae_ objects, letting you store them somewhere and reconstitute them when needed. Ruby calls this kind of serialization _marshaling_."
   ]
  },
  {
   "cell_type": "code",
   "execution_count": 1,
   "id": "analyzed-atlanta",
   "metadata": {},
   "outputs": [
    {
     "data": {
      "text/plain": [
       "[:power, :type, :weapons]"
      ]
     },
     "execution_count": 1,
     "metadata": {},
     "output_type": "execute_result"
    }
   ],
   "source": [
    "class GameCharacter\n",
    "  def initialize(power, type, weapons)\n",
    "    @power = power\n",
    "    @type = type\n",
    "    @weapons = weapons\n",
    "  end\n",
    "  attr_reader :power, :type, :weapons\n",
    "end"
   ]
  },
  {
   "cell_type": "markdown",
   "id": "prompt-tiger",
   "metadata": {},
   "source": [
    "The next code creates an object of the above class and then uses `Marshal.dump` to save a serialized version of it to the disk."
   ]
  },
  {
   "cell_type": "code",
   "execution_count": 2,
   "id": "tight-checklist",
   "metadata": {},
   "outputs": [
    {
     "name": "stdout",
     "output_type": "stream",
     "text": [
      "120 Magician\n",
      "spells\n",
      "invisibility\n"
     ]
    },
    {
     "data": {
      "text/plain": [
       "#<File:game (closed)>"
      ]
     },
     "execution_count": 2,
     "metadata": {},
     "output_type": "execute_result"
    }
   ],
   "source": [
    "gc = GameCharacter.new(120, 'Magician', ['spells', 'invisibility'])\n",
    "puts \"#{gc.power} #{gc.type}\"\n",
    "gc.weapons.each do |w|\n",
    "  puts w\n",
    "end\n",
    "\n",
    "File.open('game', 'w+') do |f|\n",
    "  Marshal.dump(gc, f)\n",
    "end"
   ]
  },
  {
   "cell_type": "markdown",
   "id": "equivalent-vampire",
   "metadata": {},
   "source": [
    "The next program uses `Marshal.load` to read it in."
   ]
  },
  {
   "cell_type": "code",
   "execution_count": 3,
   "id": "consolidated-championship",
   "metadata": {},
   "outputs": [
    {
     "name": "stdout",
     "output_type": "stream",
     "text": [
      "120 Magician\n",
      "spells\n",
      "invisibility\n"
     ]
    },
    {
     "data": {
      "text/plain": [
       "[\"spells\", \"invisibility\"]"
      ]
     },
     "execution_count": 3,
     "metadata": {},
     "output_type": "execute_result"
    }
   ],
   "source": [
    "File.open('game') do |f|\n",
    "  @gc = Marshal.load(f)\n",
    "end\n",
    "\n",
    "puts \"#{@gc.power} #{@gc.type}\"\n",
    "@gc.weapons.each do |w|\n",
    "  puts w\n",
    "end"
   ]
  },
  {
   "cell_type": "markdown",
   "id": "hybrid-conducting",
   "metadata": {},
   "source": [
    "> `Marshal` only serializes data structures. It can't serialize Ruby code (like `Proc` objects), or resources allocated by other processes (like file handles or database connections). `Marshal` just gives you an error when you try to serialize a file."
   ]
  }
 ],
 "metadata": {
  "kernelspec": {
   "display_name": "Ruby 3.0.0",
   "language": "ruby",
   "name": "ruby"
  },
  "language_info": {
   "file_extension": ".rb",
   "mimetype": "application/x-ruby",
   "name": "ruby",
   "version": "3.0.1"
  }
 },
 "nbformat": 4,
 "nbformat_minor": 5
}
