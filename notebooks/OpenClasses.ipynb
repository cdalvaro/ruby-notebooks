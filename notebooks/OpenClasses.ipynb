{
 "cells": [
  {
   "cell_type": "markdown",
   "id": "timely-surprise",
   "metadata": {},
   "source": [
    "# Open Classes in Ruby\n",
    "\n",
    "In Ruby, classes are never closed; you can always add methods to an existing class. This applies to the classes you write as well as the standard, built-in classes. All you have to do is open up a class definition for an existing class, and the new contents you specify will be added to thatever's there.\n",
    "\n",
    "We are going to add the method `dispAttr` to the [MotorCycle](assets/motorcycle.rb) class."
   ]
  },
  {
   "cell_type": "code",
   "execution_count": 1,
   "id": "regulated-prospect",
   "metadata": {},
   "outputs": [
    {
     "name": "stdout",
     "output_type": "stream",
     "text": [
      "Engine Idle\n",
      "Color of MotorCycle is yellow\n",
      "Make of MotorCycle is Yamaha\n",
      "Engine is already Running\n",
      "Object\n",
      "main\n"
     ]
    }
   ],
   "source": [
    "require './assets/motorcycle'\n",
    "m = MotorCycle.new('Yamaha', 'yellow')\n",
    "m.start_engine\n",
    "\n",
    "class MotorCycle\n",
    "  def disp_attr\n",
    "    puts \"Color of MotorCycle is #{@color}\"\n",
    "    puts \"Make of MotorCycle is #{@make}\"\n",
    "  end\n",
    "end\n",
    "\n",
    "m.disp_attr\n",
    "m.start_engine\n",
    "\n",
    "puts self.class\n",
    "puts self"
   ]
  },
  {
   "cell_type": "markdown",
   "id": "oriented-placement",
   "metadata": {},
   "source": [
    "Please note that `self.class` refers to `Object` and `self` refers to an object called `main` of class `Object`."
   ]
  },
  {
   "cell_type": "code",
   "execution_count": 2,
   "id": "genetic-cannon",
   "metadata": {},
   "outputs": [
    {
     "name": "stdout",
     "output_type": "stream",
     "text": [
      "Ruff! Ruff!\n",
      "Woof! Woof!\n",
      "I am of Labrador breed and my name is Benzy\n"
     ]
    }
   ],
   "source": [
    "require './assets/dog'\n",
    "\n",
    "class Dog\n",
    "  def big_bark\n",
    "    puts 'Woof! Woof!'\n",
    "  end\n",
    "end\n",
    "\n",
    "d = Dog.new('Labrador', 'Benzy')\n",
    "d.bark\n",
    "d.big_bark\n",
    "d.display"
   ]
  },
  {
   "cell_type": "markdown",
   "id": "editorial-warrant",
   "metadata": {},
   "source": [
    "Here's another example of adding a method to the `String` class.\n",
    "\n",
    "We would like to add a `write_size` method to the `String` class. But first, we shall get a list of all methods in Ruby's standard `String` class that begins with `wr`:"
   ]
  },
  {
   "cell_type": "code",
   "execution_count": 3,
   "id": "opposed-transparency",
   "metadata": {},
   "outputs": [
    {
     "data": {
      "text/plain": [
       "[]"
      ]
     },
     "execution_count": 3,
     "metadata": {},
     "output_type": "execute_result"
    }
   ],
   "source": [
    "String.methods.grep /^wr/"
   ]
  },
  {
   "cell_type": "markdown",
   "id": "whole-superintendent",
   "metadata": {},
   "source": [
    "We observe that the `String` class has no method starting with `wr`."
   ]
  },
  {
   "cell_type": "code",
   "execution_count": 4,
   "id": "advised-theorem",
   "metadata": {},
   "outputs": [
    {
     "name": "stdout",
     "output_type": "stream",
     "text": [
      "17\n"
     ]
    }
   ],
   "source": [
    "class String\n",
    "  def write_size\n",
    "    self.size\n",
    "  end\n",
    "end\n",
    "\n",
    "size_writer = 'Tell me the size!'\n",
    "puts size_writer.write_size"
   ]
  },
  {
   "cell_type": "markdown",
   "id": "miniature-catalyst",
   "metadata": {},
   "source": [
    "> If you're writing a new method that conceptually belongs in the original class, you can reopen the class and append your method to the class definition. You should only do this if your method is generally useful, and you're sure it won't conflict with a method defined by some library you include in the future. If your method isn't generally useful, or you don't want to take the risk of modifying a class after its initial creation, create a subclass of the original class. The subclass can override its parent's methods, or add new ones. This is safer because the original class, and any code that depended on it, is unaffected."
   ]
  }
 ],
 "metadata": {
  "kernelspec": {
   "display_name": "Ruby 3.0.0",
   "language": "ruby",
   "name": "ruby"
  },
  "language_info": {
   "file_extension": ".rb",
   "mimetype": "application/x-ruby",
   "name": "ruby",
   "version": "3.0.1"
  }
 },
 "nbformat": 4,
 "nbformat_minor": 5
}
