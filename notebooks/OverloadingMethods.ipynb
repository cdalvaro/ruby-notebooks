{
 "cells": [
  {
   "cell_type": "markdown",
   "id": "blank-shame",
   "metadata": {},
   "source": [
    "# Overloading Methods in Ruby\n",
    "\n",
    "**You want to create two different versions of a method with the same name: _two methods that differ in the arguments they take_**. However, _a Ruby class can have only one method with a given name_ (if you define a method with the same name twice, the latter method definition prevails as seen in [Overriding Methods](OverridingMethods.ipynb) notebook). Within that single method, though, you can put logic that branches depending on how many and what kinds of objects were passes in as arguments.\n",
    "\n",
    "Here's a `Rectangle` class that represents a rectangular shape on a grid. You can instantiate a `Rectangle` by one of two ways: by passing in the coordinates of its top-left and bottom-right corners, or by passing in its top-left corner along with its lenght and width. There's only one `initialize` method, but you can act as though there were two."
   ]
  },
  {
   "cell_type": "code",
   "execution_count": 1,
   "id": "solar-valentine",
   "metadata": {},
   "outputs": [
    {
     "name": "stdout",
     "output_type": "stream",
     "text": [
      "Three arguments\n",
      "Two arguments\n"
     ]
    },
    {
     "data": {
      "text/plain": [
       "#<Rectangle:0x00007fa1608c6d98>"
      ]
     },
     "execution_count": 1,
     "metadata": {},
     "output_type": "execute_result"
    }
   ],
   "source": [
    "=begin\n",
    "The Rectangle constructor accepts arguments in either\n",
    "of the following forms:\n",
    "  * Rectangle.new([x_top, y_left], length, width)\n",
    "  * Rectangle.new([x_top, y_left], [x_bottom, y_right])\n",
    "=end\n",
    "class Rectangle\n",
    "  def initialize(*args)\n",
    "    if args.size < 2 || args.size > 3\n",
    "      puts 'This method takes either 2 or 3 arguments'\n",
    "    else\n",
    "      if args.size == 2\n",
    "        puts 'Two arguments'\n",
    "      else\n",
    "        puts 'Three arguments'\n",
    "      end\n",
    "    end\n",
    "  end\n",
    "end\n",
    "\n",
    "rrr = Rectangle.new([10, 23], 4, 10)\n",
    "rr = Rectangle.new([10, 23], [14, 13])"
   ]
  },
  {
   "cell_type": "markdown",
   "id": "focal-enemy",
   "metadata": {},
   "source": [
    "The above program is incomplete from the `Rectangle` class viewpoint, but is enough to demonstrate how method overloading can be achieved. Also remember that the `initialize` method takes in a variable number of arguments."
   ]
  }
 ],
 "metadata": {
  "kernelspec": {
   "display_name": "Ruby 3.0.0",
   "language": "ruby",
   "name": "ruby"
  },
  "language_info": {
   "file_extension": ".rb",
   "mimetype": "application/x-ruby",
   "name": "ruby",
   "version": "3.0.1"
  }
 },
 "nbformat": 4,
 "nbformat_minor": 5
}
