{
 "cells": [
  {
   "cell_type": "markdown",
   "id": "gorgeous-textbook",
   "metadata": {},
   "source": [
    "# Procs in Ruby\n",
    "\n",
    "_Blocks are not objects_, but they can be converted into objects of class `Proc`. This can be done by calling the `lambda` method of the class `Object`. A blick created with `lambda` acts like a Ruby method. If you don't specify the right number of arguments, you can't call the block.\n",
    "\n",
    "```ruby\n",
    "prc = lambda { 'Hello' }\n",
    "```\n",
    "\n",
    "`Proc` objects are blocks of code that have been bound to a set of local variables. The class `Proc` has a method `call` that invokes the block."
   ]
  },
  {
   "cell_type": "code",
   "execution_count": 1,
   "id": "verbal-tablet",
   "metadata": {},
   "outputs": [
    {
     "name": "stdout",
     "output_type": "stream",
     "text": [
      "Hello\n",
      "Cheers\n"
     ]
    }
   ],
   "source": [
    "prc = lambda { 'Hello' }\n",
    "puts prc.call\n",
    "\n",
    "toast = lambda do\n",
    "  'Cheers'\n",
    "end\n",
    "puts toast.call"
   ]
  },
  {
   "cell_type": "markdown",
   "id": "tutorial-variety",
   "metadata": {},
   "source": [
    "Remember you cannot pass methods into other methods (but you can pass procs into methods), and methods cannot return other methods (but they can return procs)."
   ]
  },
  {
   "cell_type": "code",
   "execution_count": 2,
   "id": "prime-prevention",
   "metadata": {},
   "outputs": [
    {
     "name": "stdout",
     "output_type": "stream",
     "text": [
      "Start of mtd\n",
      "Hello\n",
      "End of mtd\n"
     ]
    }
   ],
   "source": [
    "def some_mtd some_proc\n",
    "  puts 'Start of mtd'\n",
    "  some_proc.call\n",
    "  puts 'End of mtd'\n",
    "end\n",
    "\n",
    "say = lambda do\n",
    "  puts 'Hello'\n",
    "end\n",
    "\n",
    "some_mtd say"
   ]
  },
  {
   "cell_type": "markdown",
   "id": "wired-nursery",
   "metadata": {},
   "source": [
    "Here's another example of passing arguments using `lambda`:"
   ]
  },
  {
   "cell_type": "code",
   "execution_count": 3,
   "id": "consecutive-favorite",
   "metadata": {},
   "outputs": [
    {
     "name": "stdout",
     "output_type": "stream",
     "text": [
      "Hello World!\n"
     ]
    }
   ],
   "source": [
    "a_Block = lambda { |x| \"Hello #{x}!\" }\n",
    "puts a_Block.call 'World'"
   ]
  },
  {
   "cell_type": "markdown",
   "id": "coral-honduras",
   "metadata": {},
   "source": [
    "[**Fabio Akita**](https://www.akitaonrails.com) a Brazilian Rails enthusiast, also known online as \"AkitaOnRails\", wrote this exclusive article on [Ruby Blocks/Closures](http://rubylearning.com/blog/2007/11/30/akitaonrails-on-anatomy-of-ruby-blocks/closures/) for the [rubylearning.com](http://rubylearning.com) members. Do read, after you have gone through this lesson."
   ]
  }
 ],
 "metadata": {
  "kernelspec": {
   "display_name": "Ruby 3.0.0",
   "language": "ruby",
   "name": "ruby"
  },
  "language_info": {
   "file_extension": ".rb",
   "mimetype": "application/x-ruby",
   "name": "ruby",
   "version": "3.0.1"
  }
 },
 "nbformat": 4,
 "nbformat_minor": 5
}
