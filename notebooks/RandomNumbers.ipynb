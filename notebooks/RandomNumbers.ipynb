{
 "cells": [
  {
   "cell_type": "markdown",
   "id": "excited-calculator",
   "metadata": {},
   "source": [
    "# Random Numbers in Ruby\n",
    "\n",
    "Ruby coes with a random number generator. The method to get a randomly chosen number is `rand`.\n",
    "\n",
    "If you call `rand`, you'll get a float greater than or equal 0.0 and less than 1.0. If you give it an integer parameter (by calling `rand(5)`), you will get an integer value greater than or equal to 0 and less than 5."
   ]
  },
  {
   "cell_type": "markdown",
   "id": "crucial-checkout",
   "metadata": {},
   "source": [
    "The program below makes three lists of words, and then randomly picks one word from each of the three lists and prints out the result"
   ]
  },
  {
   "cell_type": "code",
   "execution_count": 1,
   "id": "cardiac-profession",
   "metadata": {},
   "outputs": [
    {
     "name": "stdout",
     "output_type": "stream",
     "text": [
      "pervasive cooperative solution\n"
     ]
    }
   ],
   "source": [
    "word_list_one = [\n",
    "  '24/7', 'multi-Tier', '30,000 foot', 'B-to-B',\n",
    "  'win-win', 'front-end', 'web-based', 'pervasive',\n",
    "  'smart', 'six-sigma', 'critical-path', 'dynamic'\n",
    "]\n",
    "\n",
    "word_list_two = [\n",
    "  'empowered', 'sticky', 'value-added', 'oriented', 'centric',\n",
    "  'distributed', 'clustered', 'branded', 'outside-the-box',\n",
    "  'positioned', 'networked', 'focused', 'leveraged', 'aligned',\n",
    "  'targeted', 'shared', 'cooperative', 'accelerated'\n",
    "]\n",
    "\n",
    "word_list_three = [\n",
    "  'process', 'tipping-point', 'solution', 'architecture',\n",
    "  'core competency', 'strategy', 'mindshare', 'portal',\n",
    "  'space', 'vision', 'paradigm', 'mission'\n",
    "]\n",
    "\n",
    "one_len = word_list_one.length\n",
    "two_len = word_list_two.length\n",
    "three_len = word_list_three.length\n",
    "\n",
    "rand1 = rand(one_len)\n",
    "rand2 = rand(two_len)\n",
    "rand3 = rand(three_len)\n",
    "\n",
    "phrase = \"#{word_list_one[rand1]} #{word_list_two[rand2]} #{word_list_three[rand3]}\"\n",
    "puts phrase"
   ]
  }
 ],
 "metadata": {
  "kernelspec": {
   "display_name": "Ruby 3.0.0",
   "language": "ruby",
   "name": "ruby"
  },
  "language_info": {
   "file_extension": ".rb",
   "mimetype": "application/x-ruby",
   "name": "ruby",
   "version": "3.0.1"
  }
 },
 "nbformat": 4,
 "nbformat_minor": 5
}
