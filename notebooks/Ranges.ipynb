{
 "cells": [
  {
   "cell_type": "markdown",
   "id": "dress-flight",
   "metadata": {},
   "source": [
    "# Ranges in Ruby\n",
    "\n",
    "The first and perhaps most natural use of ranges is to express a sequence. Sequences have a start point, an end point, and a way to produce successive values in the sequence. In Ruby, these sequences are created using the `..` and `...` range operators.\n",
    "\n",
    "- The two dot (`..`) form creates an inclusive range.\n",
    "- The three-dot (`...`) form creates a range that excludes the specified high value.\n",
    "\n",
    "In Ruby ranges are not represented internally as lists: the sequence `1..100000` is held as a `Range` object containing references to two `Fixnum` objects.\n",
    "\n",
    "If you need to, you can convert a range to a list using the `to_a` method."
   ]
  },
  {
   "cell_type": "code",
   "execution_count": 1,
   "id": "level-costs",
   "metadata": {},
   "outputs": [
    {
     "data": {
      "text/plain": [
       "[1, 2, 3, 4, 5, 6, 7, 8, 9, 10]"
      ]
     },
     "execution_count": 1,
     "metadata": {},
     "output_type": "execute_result"
    }
   ],
   "source": [
    "(1..10).to_a"
   ]
  },
  {
   "cell_type": "markdown",
   "id": "proprietary-morris",
   "metadata": {},
   "source": [
    "Ranges implement methods that let you iterate over them and test their contents in a variety of ways."
   ]
  },
  {
   "cell_type": "code",
   "execution_count": 2,
   "id": "utility-parliament",
   "metadata": {},
   "outputs": [
    {
     "name": "stdout",
     "output_type": "stream",
     "text": [
      "true\n",
      "-1\n",
      "9\n",
      "[5, 6, 7, 8, 9]\n"
     ]
    }
   ],
   "source": [
    "digits = -1..9\n",
    "puts digits.include? 5\n",
    "puts digits.min\n",
    "puts digits.max\n",
    "puts digits.reject { |i| i < 5 }"
   ]
  },
  {
   "cell_type": "markdown",
   "id": "incredible-valentine",
   "metadata": {},
   "source": [
    "Another use of the versatile range is as an interval test: seeing if some value falls within the interval represented by the range. We do this using `===`, the case equality operator."
   ]
  },
  {
   "cell_type": "code",
   "execution_count": 3,
   "id": "checked-headquarters",
   "metadata": {},
   "outputs": [
    {
     "name": "stdout",
     "output_type": "stream",
     "text": [
      "true\n",
      "false\n",
      "true\n",
      "true\n",
      "false\n"
     ]
    }
   ],
   "source": [
    "puts (1..10) === 5\n",
    "puts (1..10) === 15\n",
    "puts (1..10) === 3.14159\n",
    "puts ('a'..'j') === 'c'\n",
    "puts ('a'..'j') === 'z'"
   ]
  }
 ],
 "metadata": {
  "kernelspec": {
   "display_name": "Ruby 3.0.0",
   "language": "ruby",
   "name": "ruby"
  },
  "language_info": {
   "file_extension": ".rb",
   "mimetype": "application/x-ruby",
   "name": "ruby",
   "version": "3.0.1"
  }
 },
 "nbformat": 4,
 "nbformat_minor": 5
}
