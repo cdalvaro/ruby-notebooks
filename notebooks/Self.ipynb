{
 "cells": [
  {
   "cell_type": "markdown",
   "id": "seventh-generator",
   "metadata": {},
   "source": [
    "# `self` in Ruby\n",
    "\n",
    "At every point when your program is running, there is _one and only one_ `self` - the current or default object accessible to you in your program. You can tell which object `self` represents by following a small set of rules.\n",
    "\n",
    "## Top level context\n",
    "\n",
    "The top level context is before you have entered any other context, such as a class definition. Therefor the term top level refers to program code written outside of a class or module. If you open a new text file and type:\n",
    "\n",
    "```ruby\n",
    "x = 1\n",
    "```\n",
    "\n",
    "you have created a top level local variable `x`. If you type:\n",
    "\n",
    "```ruby\n",
    "def m\n",
    "end\n",
    "```\n",
    "\n",
    "you have created a top level method - an instance method of `Object` (even though `self` is not `Object`). Top-level methods are always private. Ruby provides you with a start-up `self` at the top level. If you type:"
   ]
  },
  {
   "cell_type": "code",
   "execution_count": 1,
   "id": "green-advice",
   "metadata": {},
   "outputs": [
    {
     "name": "stdout",
     "output_type": "stream",
     "text": [
      "main\n"
     ]
    }
   ],
   "source": [
    "puts self"
   ]
  },
  {
   "cell_type": "markdown",
   "id": "oriented-reproduction",
   "metadata": {},
   "source": [
    "it displays `main` - a special term the default `self` object uses to refer to itself. The class of the `main` object is `Object`."
   ]
  },
  {
   "cell_type": "markdown",
   "id": "social-forest",
   "metadata": {},
   "source": [
    "## `self` inside class and module definitions\n",
    "\n",
    "In a class or module definition, `self` is the class or module object."
   ]
  },
  {
   "cell_type": "code",
   "execution_count": 2,
   "id": "premium-daily",
   "metadata": {},
   "outputs": [
    {
     "name": "stdout",
     "output_type": "stream",
     "text": [
      "Just started class S\n",
      "S\n",
      "Nested module S::M\n",
      "S::M\n",
      "Back in the outer level of S\n",
      "S\n"
     ]
    }
   ],
   "source": [
    "class S\n",
    "  puts 'Just started class S'\n",
    "  puts self\n",
    "  \n",
    "  module M\n",
    "    puts 'Nested module S::M'\n",
    "    puts self\n",
    "  end\n",
    "  \n",
    "  puts 'Back in the outer level of S'\n",
    "  puts self\n",
    "end"
   ]
  },
  {
   "cell_type": "markdown",
   "id": "cellular-middle",
   "metadata": {},
   "source": [
    "## `self` in instance method definitions\n",
    "\n",
    "At the time the method definition is executed, the most you can say is that `self` inside this method will be some future object that has access to this method."
   ]
  },
  {
   "cell_type": "code",
   "execution_count": 3,
   "id": "descending-clarity",
   "metadata": {},
   "outputs": [
    {
     "name": "stdout",
     "output_type": "stream",
     "text": [
      "Class S method m:\n",
      "#<S:0x00007fb49b2e3f90>\n"
     ]
    }
   ],
   "source": [
    "class S\n",
    "  def m\n",
    "    puts 'Class S method m:'\n",
    "    puts self\n",
    "  end\n",
    "end\n",
    "\n",
    "s = S.new\n",
    "s.m"
   ]
  },
  {
   "cell_type": "markdown",
   "id": "normal-thomson",
   "metadata": {},
   "source": [
    "The output `#<S:0x..........>` is Ruby's way of saying \"an instance of S\"."
   ]
  },
  {
   "cell_type": "markdown",
   "id": "upper-mixture",
   "metadata": {},
   "source": [
    "## `self` in singleton-method and class-method definitions\n",
    "\n",
    "_Singleton methods_ - those attached to a particular object can be called by only one object. When a singleton method is executed, `self` is the object that owns the method, as shown below:"
   ]
  },
  {
   "cell_type": "code",
   "execution_count": 4,
   "id": "monthly-brush",
   "metadata": {},
   "outputs": [
    {
     "name": "stdout",
     "output_type": "stream",
     "text": [
      "I am an object: here's self inside a singleton method of mine: #<Object:0x00007fb4bb171570>\n",
      "And inspecting obj from outside, to be sure it's the same object: #<Object:0x00007fb4bb171570>\n"
     ]
    }
   ],
   "source": [
    "obj = Object.new\n",
    "def obj.show\n",
    "  puts \"I am an object: here's self inside a singleton method of mine: #{self}\"\n",
    "end\n",
    "\n",
    "obj.show\n",
    "puts \"And inspecting obj from outside, to be sure it's the same object: #{obj}\""
   ]
  },
  {
   "cell_type": "markdown",
   "id": "protective-stevens",
   "metadata": {},
   "source": [
    "Class methods are defined as singleton methods for class objects. Refer to the following program:"
   ]
  },
  {
   "cell_type": "code",
   "execution_count": 5,
   "id": "desperate-casino",
   "metadata": {},
   "outputs": [
    {
     "name": "stdout",
     "output_type": "stream",
     "text": [
      "Class method of class S - S\n"
     ]
    }
   ],
   "source": [
    "class S\n",
    "  def S.x\n",
    "    puts \"Class method of class S - #{self}\"\n",
    "  end\n",
    "end\n",
    "\n",
    "S.x"
   ]
  },
  {
   "cell_type": "markdown",
   "id": "attended-pound",
   "metadata": {},
   "source": [
    "`self` inside a singleton method (a class method, in this case) is the object whose singleton method it is."
   ]
  }
 ],
 "metadata": {
  "kernelspec": {
   "display_name": "Ruby 3.0.0",
   "language": "ruby",
   "name": "ruby"
  },
  "language_info": {
   "file_extension": ".rb",
   "mimetype": "application/x-ruby",
   "name": "ruby",
   "version": "3.0.1"
  }
 },
 "nbformat": 4,
 "nbformat_minor": 5
}
