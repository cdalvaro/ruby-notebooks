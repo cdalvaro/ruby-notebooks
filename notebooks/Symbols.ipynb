{
 "cells": [
  {
   "cell_type": "markdown",
   "id": "structural-adjustment",
   "metadata": {},
   "source": [
    "# Symbols in Ruby\n",
    "\n",
    "A symbol looks like a variable name but it's prefixed with a colon. Examples - `:action`, `:line_items`.\n",
    "\n",
    "You don't have to pre-declare a symbol and they are guaranteed to be unique. There's no need to assign some kind of value to a symbol - Ruby takes care of that for you. Ruby also guarantees that no matter where it appears in your program, a particular symbol will have the same value.\n",
    "\n",
    "Alternatively, you can consider the colon to mean \"thing named\" so `:id` is \"the thing named id\". You can also think of `:id` as meaning the name of the variable id, and plain `id` as meaning the value of the variable.\n",
    "\n",
    "> A **Symbol** is the most basic Ruby object you can create. It's just a name and an internal ID. Symbols are useful because a given symbol name refers to the same object throughout a Ruby program. Symbols are more efficient than strings. Two strings with the same contents are two different objects, but for any given name there is only one Symbol object. This can save both time and memory."
   ]
  },
  {
   "cell_type": "code",
   "execution_count": 1,
   "id": "elegant-melbourne",
   "metadata": {},
   "outputs": [
    {
     "name": "stdout",
     "output_type": "stream",
     "text": [
      "1400\n",
      "1420\n",
      "925148\n",
      "925148\n"
     ]
    }
   ],
   "source": [
    "# Use the object_id method of class Object\n",
    "# It returns an integer identifier for an object\n",
    "puts \"string\".object_id\n",
    "puts \"string\".object_id\n",
    "puts :symbol.object_id\n",
    "puts :symbol.object_id"
   ]
  },
  {
   "cell_type": "markdown",
   "id": "false-council",
   "metadata": {},
   "source": [
    "Therefore, when do we use a string versus a symbol?\n",
    "\n",
    "- If the contents (the sequence of characters) of the object are important, use a string\n",
    "- If the identity of the object is important, use a symbol\n",
    "\n",
    "> Ruby uses symbols, and maintains a Symbol Table to hold them. Symbols are names - names of instance variables, names of methods, names of classes. So if there is a method called `control_movie`, there is automatically a symbol `:control_movie`. Ruby's interpreted, so it keeps its Symbol Table handy at all times. You can find out what's on it at any given moment by calling `Symbol.all_symbols`.\n",
    "\n",
    "> A symbol object is created by prefixing an operator, string, variable, constant, method, class, module name with a colon. The symbol object will be unique for each different name but does not refer to a particular instance of the name, for the duration of a program's execution. Thus, if `Fred` is a constant in one context, a method in another, and a class in a third, the Symbol `:Fred` will be the same object in all three contexts.\n",
    "\n",
    "This can be illustrated by the following example:"
   ]
  },
  {
   "cell_type": "code",
   "execution_count": 2,
   "id": "intermediate-romania",
   "metadata": {},
   "outputs": [
    {
     "name": "stdout",
     "output_type": "stream",
     "text": [
      "2893988\n",
      "378268\n",
      "378268\n"
     ]
    }
   ],
   "source": [
    "class Test\n",
    "  puts :Test.object_id.to_s\n",
    "  def test\n",
    "    puts :test.object_id.to_s\n",
    "    @test = 10\n",
    "    puts :test.object_id.to_s\n",
    "  end\n",
    "end\n",
    "t = Test.new\n",
    "t.test"
   ]
  },
  {
   "cell_type": "markdown",
   "id": "headed-chamber",
   "metadata": {},
   "source": [
    "Another example:"
   ]
  },
  {
   "cell_type": "code",
   "execution_count": 3,
   "id": "front-infrared",
   "metadata": {},
   "outputs": [
    {
     "name": "stdout",
     "output_type": "stream",
     "text": [
      "You are a Rubyist\n"
     ]
    }
   ],
   "source": [
    "know_ruby = :yes\n",
    "if know_ruby == :yes\n",
    "  puts 'You are a Rubyist'\n",
    "else\n",
    "  puts 'Start learning Ruby'\n",
    "end"
   ]
  },
  {
   "cell_type": "markdown",
   "id": "boxed-sleeping",
   "metadata": {},
   "source": [
    "In this example, `:yes` is a symbol. Symbols don't contain values or objects, like variables do. Instead, they're used as a consistent name within code. For example, in the preceding code you could easily replace the symbol with a string:"
   ]
  },
  {
   "cell_type": "code",
   "execution_count": 4,
   "id": "primary-broadcast",
   "metadata": {},
   "outputs": [
    {
     "name": "stdout",
     "output_type": "stream",
     "text": [
      "You are a Rubyist\n"
     ]
    }
   ],
   "source": [
    "know_ruby = 'yes'\n",
    "if know_ruby == 'yes'\n",
    "  puts 'You are a Rubyist'\n",
    "else\n",
    "  puts 'Start learning Ruby'\n",
    "end"
   ]
  },
  {
   "cell_type": "markdown",
   "id": "controlling-place",
   "metadata": {},
   "source": [
    "This gives the same result, but isn't as efficient. In this example, every mention of `'yes'` creates a new object stored separately in memory, whereas symbols are single reference values that are only initialized once. In the first code example, only `:yes` exists, whereas in the second example you end up with the full strings of `'yes'` and `'yes'` taking up memory.\n",
    "\n",
    "We can also transform a `String` into a `Symbol` and vice-versa:"
   ]
  },
  {
   "cell_type": "code",
   "execution_count": 5,
   "id": "bridal-victor",
   "metadata": {},
   "outputs": [
    {
     "name": "stdout",
     "output_type": "stream",
     "text": [
      "Symbol\n",
      "String\n"
     ]
    }
   ],
   "source": [
    "puts \"string\".to_sym.class\n",
    "puts :symbol.to_s.class"
   ]
  },
  {
   "cell_type": "markdown",
   "id": "compatible-ukraine",
   "metadata": {},
   "source": [
    "Symbols are particularly useful when creating hashes and you want to have a distinction between keys and values. Pease refer to _**Using Symbols as Hash Keys**_ for a practical example.\n",
    "\n",
    "> _**Fabio Akita**_ a Brazilian Rails enthusiast, also known online as _\"AkitaOnRails\"_, wrote this exclusive article on [_**Ruby Symbols**_](http://rubylearning.com/blog/2007/11/26/akitaonrails-on-ruby-symbols/) for the [rubylearning.com](http://rubylearning.com) members. Do read the article, after you have gon through this notebook."
   ]
  }
 ],
 "metadata": {
  "kernelspec": {
   "display_name": "Ruby 3.0.0",
   "language": "ruby",
   "name": "ruby"
  },
  "language_info": {
   "file_extension": ".rb",
   "mimetype": "application/x-ruby",
   "name": "ruby",
   "version": "3.0.1"
  }
 },
 "nbformat": 4,
 "nbformat_minor": 5
}
