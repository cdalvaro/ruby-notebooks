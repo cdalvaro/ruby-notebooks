{
 "cells": [
  {
   "cell_type": "markdown",
   "id": "third-watch",
   "metadata": {},
   "source": [
    "# Syntactic Sugar in Ruby\n",
    "\n",
    "Programmers use th term syntactic sugar to refer to special rules that let you write your code in a way that doesn't correspond to the normal rules but that is easier to remember how to do and looks better.\n",
    "\n",
    "Let us say we want to set the name of a dog. As a starting point, name can be set along with everything else at object creation time, as in the example below."
   ]
  },
  {
   "cell_type": "code",
   "execution_count": 1,
   "id": "understanding-immigration",
   "metadata": {},
   "outputs": [
    {
     "name": "stdout",
     "output_type": "stream",
     "text": [
      "Benzy\n"
     ]
    }
   ],
   "source": [
    "class NewDog\n",
    "  def initialize(breed, name)\n",
    "    @breed = breed\n",
    "    @name = name\n",
    "  end\n",
    "  \n",
    "  # Create readers only\n",
    "  attr_reader :breed, :name\n",
    "end\n",
    "\n",
    "nd = NewDog.new('Doberman', 'Benzy')\n",
    "puts nd.name"
   ]
  },
  {
   "cell_type": "markdown",
   "id": "departmental-miller",
   "metadata": {},
   "source": [
    "Let's write a `set_name` method that allows us to set, or reset, the name of an existing dog. We'll also rewrite the `initialize` method so that it doesn't expect a name:"
   ]
  },
  {
   "cell_type": "code",
   "execution_count": 2,
   "id": "turned-demonstration",
   "metadata": {},
   "outputs": [
    {
     "name": "stdout",
     "output_type": "stream",
     "text": [
      "Benzy\n"
     ]
    }
   ],
   "source": [
    "class NewDog\n",
    "  def initialize(breed)\n",
    "    @breed = breed\n",
    "  end\n",
    "  \n",
    "  # Create readers only\n",
    "  attr_reader :breed, :name\n",
    "  \n",
    "  # Setter method\n",
    "  def set_name(name)\n",
    "    @name = name\n",
    "  end\n",
    "end\n",
    "\n",
    "nd = NewDog.new('Doberman')\n",
    "nd.set_name('Benzy')\n",
    "puts nd.name"
   ]
  },
  {
   "cell_type": "markdown",
   "id": "parental-timeline",
   "metadata": {},
   "source": [
    "Ruby allows you to define methods that end with an equal sign (`=`). Let's replace `set_name` with a method called `name=`."
   ]
  },
  {
   "cell_type": "code",
   "execution_count": 3,
   "id": "average-commerce",
   "metadata": {},
   "outputs": [
    {
     "data": {
      "text/plain": [
       "NewDog"
      ]
     },
     "execution_count": 3,
     "metadata": {},
     "output_type": "execute_result"
    }
   ],
   "source": [
    "class NewDog\n",
    "  def name=(name)\n",
    "    @name = name\n",
    "  end\n",
    "  \n",
    "  # Prevents any calls to 'set_name'\n",
    "  undef_method :set_name\n",
    "end"
   ]
  },
  {
   "cell_type": "markdown",
   "id": "absolute-chase",
   "metadata": {},
   "source": [
    "`name=` does exactly what `set_name` did, and in spite of the slightly odd method name, you can call it just like any other method:"
   ]
  },
  {
   "cell_type": "code",
   "execution_count": 4,
   "id": "sought-providence",
   "metadata": {},
   "outputs": [
    {
     "name": "stdout",
     "output_type": "stream",
     "text": [
      "Lenon\n"
     ]
    }
   ],
   "source": [
    "nd.name=('Lenon')\n",
    "puts nd.name"
   ]
  },
  {
   "cell_type": "markdown",
   "id": "reliable-luxembourg",
   "metadata": {},
   "source": [
    "The equal sign gives you that familiar \"assigning a value to something\" feeling, so you know you're dealing with a setter method. It still looks odd, but Ruby takes care of that, too.\n",
    "\n",
    "Ruby gives you some _syntactic sugar_ for calling setter methods. Instead of this:\n",
    "\n",
    "```ruby\n",
    "nd.name=('Lenon')\n",
    "```\n",
    "\n",
    "you're allowed to do this:"
   ]
  },
  {
   "cell_type": "code",
   "execution_count": 5,
   "id": "prime-vegetation",
   "metadata": {},
   "outputs": [
    {
     "name": "stdout",
     "output_type": "stream",
     "text": [
      "Micky\n"
     ]
    }
   ],
   "source": [
    "nd.name = 'Micky'\n",
    "puts nd.name"
   ]
  },
  {
   "cell_type": "markdown",
   "id": "magnetic-stations",
   "metadata": {},
   "source": [
    "When the interpreter sees the message `name` followed by `=`, it automatically ignores the space before equal sign and reads the single message `name=` - a call to the method whose name is `name=`, which we've defined. As for the right-hand side: parentheses are optional on single arguments to methods, so you can just put `'Micky'` there and it will be picked up as the argument to the `name=` method.\n",
    "\n",
    "> **IN RAILS**: Method calls using the equal-sign syntax are common in Rails applications."
   ]
  }
 ],
 "metadata": {
  "kernelspec": {
   "display_name": "Ruby 3.0.0",
   "language": "ruby",
   "name": "ruby"
  },
  "language_info": {
   "file_extension": ".rb",
   "mimetype": "application/x-ruby",
   "name": "ruby",
   "version": "3.0.1"
  }
 },
 "nbformat": 4,
 "nbformat_minor": 5
}
