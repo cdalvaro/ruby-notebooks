{
 "cells": [
  {
   "cell_type": "markdown",
   "id": "tutorial-throw",
   "metadata": {},
   "source": [
    "# Time Class in Ruby\n",
    "\n",
    "The [`Time`](https://ruby-doc.org/core-3.0.1/Time.html) class in Ruby has a powerful formatting function which can help you represent the time in a variety of ways. The `Time` class contains Ruby's interface to the set of time libraries written in C. Time zero for Ruby is the first second GMT of January 1, 1970.\n",
    "\n",
    "Ruby's `DateTime` class is superior to `Time` for astronomical and historical applications, but you can use `Time` for most everyday programs.\n",
    "\n",
    "The [`strftime`](http://ruby-doc.org/core-3.0.1/Time.html#method-i-strftime) function is modelled after C's `printf`."
   ]
  },
  {
   "cell_type": "code",
   "execution_count": 1,
   "id": "genuine-split",
   "metadata": {},
   "outputs": [
    {
     "name": "stdout",
     "output_type": "stream",
     "text": [
      "19052021 17:43:02\n",
      "Wednesday\n",
      "May\n",
      "Wed\n",
      "May\n",
      "at 17:43 CEST\n"
     ]
    }
   ],
   "source": [
    "t = Time.now\n",
    "\n",
    "# To get day, month and year with century\n",
    "# also hour, minute and second\n",
    "puts t.strftime(\"%d%m%Y %H:%M:%S\")\n",
    "\n",
    "# You can use the upper case A and B to get the full\n",
    "# name of the weekday and month, respectively\n",
    "puts t.strftime(\"%A\")\n",
    "puts t.strftime(\"%B\")\n",
    "\n",
    "# You can use the lower case a and b to get the abbreviated\n",
    "# name of the weekday and month, respectively\n",
    "puts t.strftime(\"%a\")\n",
    "puts t.strftime(\"%b\")\n",
    "\n",
    "# 24 hour clock and Time zone name\n",
    "puts t.strftime(\"at %H:%M %Z\")"
   ]
  }
 ],
 "metadata": {
  "kernelspec": {
   "display_name": "Ruby 3.0.0",
   "language": "ruby",
   "name": "ruby"
  },
  "language_info": {
   "file_extension": ".rb",
   "mimetype": "application/x-ruby",
   "name": "ruby",
   "version": "3.0.1"
  }
 },
 "nbformat": 4,
 "nbformat_minor": 5
}
